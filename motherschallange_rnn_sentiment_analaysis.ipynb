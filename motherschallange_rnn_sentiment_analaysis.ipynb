{
  "nbformat": 4,
  "nbformat_minor": 0,
  "metadata": {
    "colab": {
      "name": "motherschallange_rnn_sentiment analaysis",
      "provenance": [],
      "collapsed_sections": []
    },
    "kernelspec": {
      "name": "python3",
      "display_name": "Python 3"
    },
    "accelerator": "GPU"
  },
  "cells": [
    {
      "cell_type": "code",
      "metadata": {
        "id": "9pIGJT_XrO9E",
        "colab_type": "code",
        "outputId": "40d28be7-57a4-4009-d183-785cee84553a",
        "colab": {
          "base_uri": "https://localhost:8080/",
          "height": 34
        }
      },
      "source": [
        "print('Lets Strat')"
      ],
      "execution_count": 0,
      "outputs": [
        {
          "output_type": "stream",
          "text": [
            "Lets Strat\n"
          ],
          "name": "stdout"
        }
      ]
    },
    {
      "cell_type": "code",
      "metadata": {
        "id": "0JtWwKCR7qD9",
        "colab_type": "code",
        "colab": {}
      },
      "source": [
        "import pandas as pd"
      ],
      "execution_count": 0,
      "outputs": []
    },
    {
      "cell_type": "code",
      "metadata": {
        "id": "qsfusgkz8E1k",
        "colab_type": "code",
        "colab": {}
      },
      "source": [
        "df=pd.read_csv('/content/drive/My Drive/Colab Notebooks/mother sentiment challange/data/dataset/train.csv')\n"
      ],
      "execution_count": 0,
      "outputs": []
    },
    {
      "cell_type": "code",
      "metadata": {
        "id": "cXbvBqVVF1I5",
        "colab_type": "code",
        "colab": {}
      },
      "source": [
        "tdf=pd.read_csv('/content/drive/My Drive/Colab Notebooks/mother sentiment challange/data/dataset/test.csv')"
      ],
      "execution_count": 0,
      "outputs": []
    },
    {
      "cell_type": "code",
      "metadata": {
        "id": "gVGDafNY8ked",
        "colab_type": "code",
        "outputId": "a241523c-b2a3-4d74-c1bf-555dccce51ba",
        "colab": {
          "base_uri": "https://localhost:8080/",
          "height": 204
        }
      },
      "source": [
        "df.head()"
      ],
      "execution_count": 0,
      "outputs": [
        {
          "output_type": "execute_result",
          "data": {
            "text/html": [
              "<div>\n",
              "<style scoped>\n",
              "    .dataframe tbody tr th:only-of-type {\n",
              "        vertical-align: middle;\n",
              "    }\n",
              "\n",
              "    .dataframe tbody tr th {\n",
              "        vertical-align: top;\n",
              "    }\n",
              "\n",
              "    .dataframe thead th {\n",
              "        text-align: right;\n",
              "    }\n",
              "</style>\n",
              "<table border=\"1\" class=\"dataframe\">\n",
              "  <thead>\n",
              "    <tr style=\"text-align: right;\">\n",
              "      <th></th>\n",
              "      <th>id</th>\n",
              "      <th>original_text</th>\n",
              "      <th>lang</th>\n",
              "      <th>retweet_count</th>\n",
              "      <th>original_author</th>\n",
              "      <th>sentiment_class</th>\n",
              "    </tr>\n",
              "  </thead>\n",
              "  <tbody>\n",
              "    <tr>\n",
              "      <th>0</th>\n",
              "      <td>1.245025e+18</td>\n",
              "      <td>pic.twitter.com/8ksnW4qDyV Https://www.instagr...</td>\n",
              "      <td>enp</td>\n",
              "      <td>0</td>\n",
              "      <td>BeenXXPired</td>\n",
              "      <td>0</td>\n",
              "    </tr>\n",
              "    <tr>\n",
              "      <th>1</th>\n",
              "      <td>1.245759e+18</td>\n",
              "      <td>Happy Mothers Day Mum - I'm sorry I can't be t...</td>\n",
              "      <td>en</td>\n",
              "      <td>1</td>\n",
              "      <td>FestiveFeeling</td>\n",
              "      <td>0</td>\n",
              "    </tr>\n",
              "    <tr>\n",
              "      <th>2</th>\n",
              "      <td>1.246087e+18</td>\n",
              "      <td>Happy mothers day To all This doing a mothers ...</td>\n",
              "      <td>en</td>\n",
              "      <td>0</td>\n",
              "      <td>KrisAllenSak</td>\n",
              "      <td>-1</td>\n",
              "    </tr>\n",
              "    <tr>\n",
              "      <th>3</th>\n",
              "      <td>1.244803e+18</td>\n",
              "      <td>Happy mothers day to this beautiful woman...ro...</td>\n",
              "      <td>en</td>\n",
              "      <td>0</td>\n",
              "      <td>Queenuchee</td>\n",
              "      <td>0</td>\n",
              "    </tr>\n",
              "    <tr>\n",
              "      <th>4</th>\n",
              "      <td>1.244876e+18</td>\n",
              "      <td>Remembering the 3 most amazing ladies who made...</td>\n",
              "      <td>en</td>\n",
              "      <td>0</td>\n",
              "      <td>brittan17446794</td>\n",
              "      <td>-1</td>\n",
              "    </tr>\n",
              "  </tbody>\n",
              "</table>\n",
              "</div>"
            ],
            "text/plain": [
              "             id  ... sentiment_class\n",
              "0  1.245025e+18  ...               0\n",
              "1  1.245759e+18  ...               0\n",
              "2  1.246087e+18  ...              -1\n",
              "3  1.244803e+18  ...               0\n",
              "4  1.244876e+18  ...              -1\n",
              "\n",
              "[5 rows x 6 columns]"
            ]
          },
          "metadata": {
            "tags": []
          },
          "execution_count": 5
        }
      ]
    },
    {
      "cell_type": "code",
      "metadata": {
        "id": "XbIMAJo-8ySg",
        "colab_type": "code",
        "colab": {}
      },
      "source": [
        "# drop nan values\n",
        "df=df.dropna()"
      ],
      "execution_count": 0,
      "outputs": []
    },
    {
      "cell_type": "code",
      "metadata": {
        "id": "VVIMEyS59XB0",
        "colab_type": "code",
        "outputId": "693ebf80-7ba2-4994-ad81-1e06b406a017",
        "colab": {
          "base_uri": "https://localhost:8080/",
          "height": 204
        }
      },
      "source": [
        "## Get the Independent Features\n",
        "\n",
        "X=df.drop('sentiment_class',axis=1)\n",
        "X.head()"
      ],
      "execution_count": 0,
      "outputs": [
        {
          "output_type": "execute_result",
          "data": {
            "text/html": [
              "<div>\n",
              "<style scoped>\n",
              "    .dataframe tbody tr th:only-of-type {\n",
              "        vertical-align: middle;\n",
              "    }\n",
              "\n",
              "    .dataframe tbody tr th {\n",
              "        vertical-align: top;\n",
              "    }\n",
              "\n",
              "    .dataframe thead th {\n",
              "        text-align: right;\n",
              "    }\n",
              "</style>\n",
              "<table border=\"1\" class=\"dataframe\">\n",
              "  <thead>\n",
              "    <tr style=\"text-align: right;\">\n",
              "      <th></th>\n",
              "      <th>id</th>\n",
              "      <th>original_text</th>\n",
              "      <th>lang</th>\n",
              "      <th>retweet_count</th>\n",
              "      <th>original_author</th>\n",
              "    </tr>\n",
              "  </thead>\n",
              "  <tbody>\n",
              "    <tr>\n",
              "      <th>0</th>\n",
              "      <td>1.245025e+18</td>\n",
              "      <td>pic.twitter.com/8ksnW4qDyV Https://www.instagr...</td>\n",
              "      <td>enp</td>\n",
              "      <td>0</td>\n",
              "      <td>BeenXXPired</td>\n",
              "    </tr>\n",
              "    <tr>\n",
              "      <th>1</th>\n",
              "      <td>1.245759e+18</td>\n",
              "      <td>Happy Mothers Day Mum - I'm sorry I can't be t...</td>\n",
              "      <td>en</td>\n",
              "      <td>1</td>\n",
              "      <td>FestiveFeeling</td>\n",
              "    </tr>\n",
              "    <tr>\n",
              "      <th>2</th>\n",
              "      <td>1.246087e+18</td>\n",
              "      <td>Happy mothers day To all This doing a mothers ...</td>\n",
              "      <td>en</td>\n",
              "      <td>0</td>\n",
              "      <td>KrisAllenSak</td>\n",
              "    </tr>\n",
              "    <tr>\n",
              "      <th>3</th>\n",
              "      <td>1.244803e+18</td>\n",
              "      <td>Happy mothers day to this beautiful woman...ro...</td>\n",
              "      <td>en</td>\n",
              "      <td>0</td>\n",
              "      <td>Queenuchee</td>\n",
              "    </tr>\n",
              "    <tr>\n",
              "      <th>4</th>\n",
              "      <td>1.244876e+18</td>\n",
              "      <td>Remembering the 3 most amazing ladies who made...</td>\n",
              "      <td>en</td>\n",
              "      <td>0</td>\n",
              "      <td>brittan17446794</td>\n",
              "    </tr>\n",
              "  </tbody>\n",
              "</table>\n",
              "</div>"
            ],
            "text/plain": [
              "             id  ...  original_author\n",
              "0  1.245025e+18  ...      BeenXXPired\n",
              "1  1.245759e+18  ...   FestiveFeeling\n",
              "2  1.246087e+18  ...     KrisAllenSak\n",
              "3  1.244803e+18  ...       Queenuchee\n",
              "4  1.244876e+18  ...  brittan17446794\n",
              "\n",
              "[5 rows x 5 columns]"
            ]
          },
          "metadata": {
            "tags": []
          },
          "execution_count": 7
        }
      ]
    },
    {
      "cell_type": "code",
      "metadata": {
        "id": "6hvAazeA961o",
        "colab_type": "code",
        "colab": {}
      },
      "source": [
        "## Get the Dependent features\n",
        "y=df['sentiment_class']\n",
        "y1=df['lang']\n",
        "# for i in range(len(y1)):\n"
      ],
      "execution_count": 0,
      "outputs": []
    },
    {
      "cell_type": "code",
      "metadata": {
        "id": "qfERmqQu-C1f",
        "colab_type": "code",
        "outputId": "eb125727-1094-444e-8218-6f1b1b4208f2",
        "colab": {
          "base_uri": "https://localhost:8080/",
          "height": 34
        }
      },
      "source": [
        "\n",
        "X.shape"
      ],
      "execution_count": 0,
      "outputs": [
        {
          "output_type": "execute_result",
          "data": {
            "text/plain": [
              "(3227, 5)"
            ]
          },
          "metadata": {
            "tags": []
          },
          "execution_count": 9
        }
      ]
    },
    {
      "cell_type": "code",
      "metadata": {
        "id": "5skjCn3q-I6p",
        "colab_type": "code",
        "outputId": "6a4628df-42d1-4f9b-ebc8-a94fd5bcaea4",
        "colab": {
          "base_uri": "https://localhost:8080/",
          "height": 34
        }
      },
      "source": [
        "y.shape\n"
      ],
      "execution_count": 0,
      "outputs": [
        {
          "output_type": "execute_result",
          "data": {
            "text/plain": [
              "(3227,)"
            ]
          },
          "metadata": {
            "tags": []
          },
          "execution_count": 10
        }
      ]
    },
    {
      "cell_type": "code",
      "metadata": {
        "id": "vfOseRxc-T_N",
        "colab_type": "code",
        "outputId": "60f7d26b-df3b-4444-b1dd-f63ad76006ad",
        "colab": {
          "base_uri": "https://localhost:8080/",
          "height": 34
        }
      },
      "source": [
        "import tensorflow as tf\n",
        "tf.__version__\n"
      ],
      "execution_count": 0,
      "outputs": [
        {
          "output_type": "execute_result",
          "data": {
            "text/plain": [
              "'2.2.0'"
            ]
          },
          "metadata": {
            "tags": []
          },
          "execution_count": 11
        }
      ]
    },
    {
      "cell_type": "code",
      "metadata": {
        "id": "m2IDL2_8-dGw",
        "colab_type": "code",
        "colab": {}
      },
      "source": [
        "\n",
        "from tensorflow.keras.layers import Embedding\n",
        "from tensorflow.keras.preprocessing.sequence import pad_sequences\n",
        "from tensorflow.keras.models import Sequential\n",
        "from tensorflow.keras.preprocessing.text import one_hot\n",
        "from tensorflow.keras.layers import LSTM\n",
        "from tensorflow.keras.layers import Dense"
      ],
      "execution_count": 0,
      "outputs": []
    },
    {
      "cell_type": "code",
      "metadata": {
        "id": "Y5UC_h3m-h3t",
        "colab_type": "code",
        "colab": {}
      },
      "source": [
        "### Vocabulary size\n",
        "voc_size=5000"
      ],
      "execution_count": 0,
      "outputs": []
    },
    {
      "cell_type": "code",
      "metadata": {
        "id": "TEGcEHsXGALv",
        "colab_type": "code",
        "outputId": "73d08f25-5296-451f-d3db-ba3037c40010",
        "colab": {
          "base_uri": "https://localhost:8080/",
          "height": 34
        }
      },
      "source": [
        "X.shape,tdf.shape"
      ],
      "execution_count": 0,
      "outputs": [
        {
          "output_type": "execute_result",
          "data": {
            "text/plain": [
              "((3227, 5), (1387, 5))"
            ]
          },
          "metadata": {
            "tags": []
          },
          "execution_count": 14
        }
      ]
    },
    {
      "cell_type": "code",
      "metadata": {
        "id": "VrAhvgfAHGEd",
        "colab_type": "code",
        "outputId": "e906aaa7-dc0d-46bc-ebc0-efcd2bec0290",
        "colab": {
          "base_uri": "https://localhost:8080/",
          "height": 34
        }
      },
      "source": [
        "type(X)"
      ],
      "execution_count": 0,
      "outputs": [
        {
          "output_type": "execute_result",
          "data": {
            "text/plain": [
              "pandas.core.frame.DataFrame"
            ]
          },
          "metadata": {
            "tags": []
          },
          "execution_count": 15
        }
      ]
    },
    {
      "cell_type": "code",
      "metadata": {
        "id": "NIm8Ty6--rCG",
        "colab_type": "code",
        "colab": {}
      },
      "source": [
        "\n",
        "messages1=X.copy()\n",
        "\n"
      ],
      "execution_count": 0,
      "outputs": []
    },
    {
      "cell_type": "code",
      "metadata": {
        "id": "ndwBTFC7GNNT",
        "colab_type": "code",
        "outputId": "002b8af6-6cab-4488-8337-c0a1293de545",
        "colab": {
          "base_uri": "https://localhost:8080/",
          "height": 34
        }
      },
      "source": [
        "messages=messages1.append(tdf)\n",
        "\n",
        "messages.reset_index(inplace=True)\n",
        "print(len(messages))\n"
      ],
      "execution_count": 0,
      "outputs": [
        {
          "output_type": "stream",
          "text": [
            "4614\n"
          ],
          "name": "stdout"
        }
      ]
    },
    {
      "cell_type": "code",
      "metadata": {
        "id": "7xWkVAYR-u87",
        "colab_type": "code",
        "outputId": "74c1ab4a-375e-4fb3-9438-d6cb829bae85",
        "colab": {
          "base_uri": "https://localhost:8080/",
          "height": 54
        }
      },
      "source": [
        "messages['original_text'][3227] #1st test data\n"
      ],
      "execution_count": 0,
      "outputs": [
        {
          "output_type": "execute_result",
          "data": {
            "text/plain": [
              "'3. Yeah, I once cooked potatoes when I was 3 years old, and by that I mean I threw a bag of spuds into the toilet. \" Happy mothers day , I made breakfast!\" 66. That time I thought I was cool by drawing the naked lady dachshund on the overhead projector in psychology class. 8'"
            ]
          },
          "metadata": {
            "tags": []
          },
          "execution_count": 18
        }
      ]
    },
    {
      "cell_type": "code",
      "metadata": {
        "id": "HFQiPgMs_yre",
        "colab_type": "code",
        "colab": {}
      },
      "source": [
        "import nltk\n",
        "import re\n",
        "from nltk.corpus import stopwords"
      ],
      "execution_count": 0,
      "outputs": []
    },
    {
      "cell_type": "code",
      "metadata": {
        "id": "Cb2zuWoQ_3Aj",
        "colab_type": "code",
        "outputId": "766e53f0-dd1c-4184-c4cf-a9689ecfe296",
        "colab": {
          "base_uri": "https://localhost:8080/",
          "height": 68
        }
      },
      "source": [
        "nltk.download('stopwords')\n"
      ],
      "execution_count": 0,
      "outputs": [
        {
          "output_type": "stream",
          "text": [
            "[nltk_data] Downloading package stopwords to /root/nltk_data...\n",
            "[nltk_data]   Unzipping corpora/stopwords.zip.\n"
          ],
          "name": "stdout"
        },
        {
          "output_type": "execute_result",
          "data": {
            "text/plain": [
              "True"
            ]
          },
          "metadata": {
            "tags": []
          },
          "execution_count": 20
        }
      ]
    },
    {
      "cell_type": "code",
      "metadata": {
        "id": "dBXwpnf4_9qF",
        "colab_type": "code",
        "colab": {}
      },
      "source": [
        "### Dataset Preprocessing\n",
        "from nltk.stem.porter import PorterStemmer\n",
        "ps = PorterStemmer()\n",
        "corpus = []\n",
        "for i in range(0, len(messages)):\n",
        "    review = re.sub('(\\w+:\\/{2}\\s*[\\d\\w-]+(\\.\\s*[\\d\\w-]+)*(?:(?:\\/[^\\s/]*))*(\\s*\\?[\\w]*=*[\\w]*)*)*([\\w]*[0-9]+(\\w)*)', ' ', messages['original_text'][i])\n",
        "    review = re.sub('pic.twitter.com/[\\w]*', ' ', review)\n",
        "    review = re.sub('xx*', ' ', review)\n",
        "    review = re.sub('[^a-zA-Z]', ' ', review)\n",
        "    review = review.lower()\n",
        "    review = review.split()\n",
        "    \n",
        "    review = [ps.stem(word) for word in review if not word in stopwords.words('english')]\n",
        "    review = ' '.join(review)\n",
        "    corpus.append(review)"
      ],
      "execution_count": 0,
      "outputs": []
    },
    {
      "cell_type": "code",
      "metadata": {
        "id": "QMXh7MluBLLC",
        "colab_type": "code",
        "outputId": "b764593e-8616-4174-d9f1-2b90786b3cfd",
        "colab": {
          "base_uri": "https://localhost:8080/",
          "height": 34
        }
      },
      "source": [
        "corpus[681]"
      ],
      "execution_count": 0,
      "outputs": [
        {
          "output_type": "execute_result",
          "data": {
            "text/plain": [
              "'happi mother day mothersday happymothersday motherday mom mommi happymom motherhood al graphi media graphic'"
            ]
          },
          "metadata": {
            "tags": []
          },
          "execution_count": 22
        }
      ]
    },
    {
      "cell_type": "code",
      "metadata": {
        "id": "2Y4HPHEaBhQr",
        "colab_type": "code",
        "colab": {}
      },
      "source": [
        "\n",
        "onehot_repr=[one_hot(words,voc_size)for words in corpus] \n",
        "# onehot_repr"
      ],
      "execution_count": 0,
      "outputs": []
    },
    {
      "cell_type": "code",
      "metadata": {
        "id": "JdCKjLzkCIvh",
        "colab_type": "code",
        "outputId": "c129bd41-b609-4016-fafa-f370b1052047",
        "colab": {
          "base_uri": "https://localhost:8080/",
          "height": 136
        }
      },
      "source": [
        "sent_length=20\n",
        "embedded_docs=pad_sequences(onehot_repr,padding='pre',maxlen=sent_length)\n",
        "print(embedded_docs)"
      ],
      "execution_count": 0,
      "outputs": [
        {
          "output_type": "stream",
          "text": [
            "[[   0    0    0 ... 3112 3135 3291]\n",
            " [1281  622 1417 ...  347 4946 2319]\n",
            " [ 270  672 2369 ... 4588 4227 4378]\n",
            " ...\n",
            " [3133 1803  751 ...  735 4024  478]\n",
            " [2201 1753 3494 ... 1806  301 4675]\n",
            " [1264 3262 1669 ... 1281 4233 4024]]\n"
          ],
          "name": "stdout"
        }
      ]
    },
    {
      "cell_type": "code",
      "metadata": {
        "id": "-Xbz-U4IDCeJ",
        "colab_type": "code",
        "outputId": "cef7e81a-f952-4604-910f-c5e247c7104d",
        "colab": {
          "base_uri": "https://localhost:8080/",
          "height": 51
        }
      },
      "source": [
        "embedded_docs[0]\n"
      ],
      "execution_count": 0,
      "outputs": [
        {
          "output_type": "execute_result",
          "data": {
            "text/plain": [
              "array([   0,    0,    0,    0, 1132, 4024, 1017, 4455,  296, 3485, 2897,\n",
              "       4682, 4455, 1803, 3681,  291,  419, 3112, 3135, 3291], dtype=int32)"
            ]
          },
          "metadata": {
            "tags": []
          },
          "execution_count": 25
        }
      ]
    },
    {
      "cell_type": "code",
      "metadata": {
        "id": "U-Yan-jcD1TI",
        "colab_type": "code",
        "outputId": "b5c52370-2b4e-4b23-a84f-9557fb09bb1d",
        "colab": {
          "base_uri": "https://localhost:8080/",
          "height": 272
        }
      },
      "source": [
        "from tensorflow.keras.layers import Dropout\n",
        "from tensorflow.keras.layers import Bidirectional\n",
        "\n",
        "## Creating model\n",
        "embedding_vector_features=250\n",
        "model=Sequential()\n",
        "model.add(Embedding(voc_size,embedding_vector_features,input_length=sent_length))\n",
        "# model.add(Dropout(0.3))\n",
        "model.add(LSTM(250))\n",
        "# model.add(Dropout(0.3))\n",
        "# model.add(Bidirectional(LSTM(100)))\n",
        "# model.add(Dropout(0.3))\n",
        "model.add(Dense(3,activation='softmax'))\n",
        "model.compile(loss='categorical_crossentropy',optimizer='adam',metrics=['accuracy'])\n",
        "print(model.summary())"
      ],
      "execution_count": 0,
      "outputs": [
        {
          "output_type": "stream",
          "text": [
            "Model: \"sequential\"\n",
            "_________________________________________________________________\n",
            "Layer (type)                 Output Shape              Param #   \n",
            "=================================================================\n",
            "embedding (Embedding)        (None, 20, 250)           1250000   \n",
            "_________________________________________________________________\n",
            "lstm (LSTM)                  (None, 250)               501000    \n",
            "_________________________________________________________________\n",
            "dense (Dense)                (None, 3)                 753       \n",
            "=================================================================\n",
            "Total params: 1,751,753\n",
            "Trainable params: 1,751,753\n",
            "Non-trainable params: 0\n",
            "_________________________________________________________________\n",
            "None\n"
          ],
          "name": "stdout"
        }
      ]
    },
    {
      "cell_type": "code",
      "metadata": {
        "id": "asLraoI3FCAN",
        "colab_type": "code",
        "outputId": "86cabb76-fd60-481d-bef0-000d8fc2168f",
        "colab": {
          "base_uri": "https://localhost:8080/",
          "height": 34
        }
      },
      "source": [
        "len(embedded_docs),y.shape"
      ],
      "execution_count": 0,
      "outputs": [
        {
          "output_type": "execute_result",
          "data": {
            "text/plain": [
              "(4614, (3227,))"
            ]
          },
          "metadata": {
            "tags": []
          },
          "execution_count": 27
        }
      ]
    },
    {
      "cell_type": "code",
      "metadata": {
        "id": "qqEeaIqNGlyK",
        "colab_type": "code",
        "outputId": "2d063d24-2347-44d8-91ee-d4d129a18b29",
        "colab": {
          "base_uri": "https://localhost:8080/",
          "height": 51
        }
      },
      "source": [
        "import numpy as np\n",
        "embedded_docs_test=embedded_docs[3227:]\n",
        "embedded_docs_train=embedded_docs[:3227]\n",
        "print(len(embedded_docs_test))\n",
        "print(len(embedded_docs_train))\n",
        "X_unknown=np.array(embedded_docs_test)\n",
        "X_final=np.array(embedded_docs_train)\n"
      ],
      "execution_count": 0,
      "outputs": [
        {
          "output_type": "stream",
          "text": [
            "1387\n",
            "3227\n"
          ],
          "name": "stdout"
        }
      ]
    },
    {
      "cell_type": "code",
      "metadata": {
        "id": "jW0ZGXYqLgGY",
        "colab_type": "code",
        "outputId": "1ce30c8a-ca2f-4bb2-fc97-2480021d3c02",
        "colab": {
          "base_uri": "https://localhost:8080/",
          "height": 68
        }
      },
      "source": [
        "y_final =np.array(df['sentiment_class'])\n",
        "len(y_final)\n",
        "from collections import Counter\n",
        "print(Counter(y_final))\n",
        "print(len(X_final))\n",
        "X_final.shape"
      ],
      "execution_count": 0,
      "outputs": [
        {
          "output_type": "stream",
          "text": [
            "Counter({0: 1693, -1: 769, 1: 765})\n",
            "3227\n"
          ],
          "name": "stdout"
        },
        {
          "output_type": "execute_result",
          "data": {
            "text/plain": [
              "(3227, 20)"
            ]
          },
          "metadata": {
            "tags": []
          },
          "execution_count": 29
        }
      ]
    },
    {
      "cell_type": "code",
      "metadata": {
        "id": "KLn3XadZNtP-",
        "colab_type": "code",
        "colab": {}
      },
      "source": [
        "\n",
        "# l=len(y_final)\n",
        "# a=0\n",
        "# for i in range(l):\n",
        "#   if(int(y_final[i])==0):\n",
        "#     X_final=np.delete(X_final, i,0)\n",
        "#     y_final=np.delete(y_final, i)\n",
        "#     a=a+1\n",
        "#     if(a==100):\n",
        "#       break\n",
        "# print(Counter(y_final))\n",
        "# print(len(X_final))"
      ],
      "execution_count": 0,
      "outputs": []
    },
    {
      "cell_type": "code",
      "metadata": {
        "id": "f2dZxEFtPAK8",
        "colab_type": "code",
        "outputId": "20f62da7-5b7b-4346-d449-f6f90509e6db",
        "colab": {
          "base_uri": "https://localhost:8080/",
          "height": 34
        }
      },
      "source": [
        "print(len(y_final))"
      ],
      "execution_count": 0,
      "outputs": [
        {
          "output_type": "stream",
          "text": [
            "3227\n"
          ],
          "name": "stdout"
        }
      ]
    },
    {
      "cell_type": "code",
      "metadata": {
        "id": "SD5xPdeQGqnw",
        "colab_type": "code",
        "outputId": "89278ce0-8bfa-4237-e562-c07948ed513a",
        "colab": {
          "base_uri": "https://localhost:8080/",
          "height": 68
        }
      },
      "source": [
        "from keras.utils import to_categorical\n",
        "from collections import Counter\n",
        "\n",
        "y_final=([int(entry)+1 for entry in y_final])\n",
        "\n",
        "print(Counter(y_final))\n",
        "\n",
        "y_final=to_categorical(y_final)\n",
        "print(y_final[110])"
      ],
      "execution_count": 0,
      "outputs": [
        {
          "output_type": "stream",
          "text": [
            "Counter({1: 1693, 0: 769, 2: 765})\n",
            "[1. 0. 0.]\n"
          ],
          "name": "stdout"
        },
        {
          "output_type": "stream",
          "text": [
            "Using TensorFlow backend.\n"
          ],
          "name": "stderr"
        }
      ]
    },
    {
      "cell_type": "code",
      "metadata": {
        "id": "PyHQHuez5LO6",
        "colab_type": "code",
        "outputId": "06d107b6-c482-4acc-c859-c38bdb7fbdb3",
        "colab": {
          "base_uri": "https://localhost:8080/",
          "height": 34
        }
      },
      "source": [
        "X_final.shape,y_final.shape\n",
        "# type(X_final)"
      ],
      "execution_count": 0,
      "outputs": [
        {
          "output_type": "execute_result",
          "data": {
            "text/plain": [
              "((3227, 20), (3227, 3))"
            ]
          },
          "metadata": {
            "tags": []
          },
          "execution_count": 33
        }
      ]
    },
    {
      "cell_type": "code",
      "metadata": {
        "id": "M_Sy4FLh54IN",
        "colab_type": "code",
        "colab": {}
      },
      "source": [
        "from sklearn.model_selection import train_test_split\n",
        "X_train, X_test, y_train, y_test = train_test_split(X_final, y_final, test_size=0.33, random_state=42)"
      ],
      "execution_count": 0,
      "outputs": []
    },
    {
      "cell_type": "code",
      "metadata": {
        "id": "Ulb2MrhY58Jd",
        "colab_type": "code",
        "outputId": "c17348c3-92b1-406a-e0a4-1f87ebb63e24",
        "colab": {
          "base_uri": "https://localhost:8080/",
          "height": 785
        }
      },
      "source": [
        "history=model.fit(X_train,y_train,validation_data=(X_test,y_test),epochs=20,batch_size=64)\n",
        "y_pred=(model.predict_classes(X_test))\n",
        "from sklearn.metrics import accuracy_score\n",
        "accuracy_score(y_test,to_categorical(y_pred))"
      ],
      "execution_count": 0,
      "outputs": [
        {
          "output_type": "stream",
          "text": [
            "Epoch 1/20\n",
            "34/34 [==============================] - 1s 44ms/step - loss: 1.0404 - accuracy: 0.5222 - val_loss: 1.0306 - val_accuracy: 0.5117\n",
            "Epoch 2/20\n",
            "34/34 [==============================] - 1s 28ms/step - loss: 0.9627 - accuracy: 0.5402 - val_loss: 1.0688 - val_accuracy: 0.4667\n",
            "Epoch 3/20\n",
            "34/34 [==============================] - 1s 27ms/step - loss: 0.7569 - accuracy: 0.6901 - val_loss: 1.2285 - val_accuracy: 0.4601\n",
            "Epoch 4/20\n",
            "34/34 [==============================] - 1s 27ms/step - loss: 0.4766 - accuracy: 0.8238 - val_loss: 1.4894 - val_accuracy: 0.4131\n",
            "Epoch 5/20\n",
            "34/34 [==============================] - 1s 28ms/step - loss: 0.2763 - accuracy: 0.9084 - val_loss: 1.8493 - val_accuracy: 0.3906\n",
            "Epoch 6/20\n",
            "34/34 [==============================] - 1s 28ms/step - loss: 0.1672 - accuracy: 0.9413 - val_loss: 2.3359 - val_accuracy: 0.3878\n",
            "Epoch 7/20\n",
            "34/34 [==============================] - 1s 27ms/step - loss: 0.1142 - accuracy: 0.9681 - val_loss: 2.6358 - val_accuracy: 0.3878\n",
            "Epoch 8/20\n",
            "34/34 [==============================] - 1s 28ms/step - loss: 0.0698 - accuracy: 0.9843 - val_loss: 3.0013 - val_accuracy: 0.3746\n",
            "Epoch 9/20\n",
            "34/34 [==============================] - 1s 28ms/step - loss: 0.0597 - accuracy: 0.9815 - val_loss: 3.2676 - val_accuracy: 0.4103\n",
            "Epoch 10/20\n",
            "34/34 [==============================] - 1s 28ms/step - loss: 0.0415 - accuracy: 0.9894 - val_loss: 2.9776 - val_accuracy: 0.4066\n",
            "Epoch 11/20\n",
            "34/34 [==============================] - 1s 28ms/step - loss: 0.0335 - accuracy: 0.9921 - val_loss: 3.3143 - val_accuracy: 0.3972\n",
            "Epoch 12/20\n",
            "34/34 [==============================] - 1s 28ms/step - loss: 0.0291 - accuracy: 0.9917 - val_loss: 3.9653 - val_accuracy: 0.4047\n",
            "Epoch 13/20\n",
            "34/34 [==============================] - 1s 28ms/step - loss: 0.0213 - accuracy: 0.9940 - val_loss: 3.4049 - val_accuracy: 0.4047\n",
            "Epoch 14/20\n",
            "34/34 [==============================] - 1s 28ms/step - loss: 0.0199 - accuracy: 0.9944 - val_loss: 3.8458 - val_accuracy: 0.3737\n",
            "Epoch 15/20\n",
            "34/34 [==============================] - 1s 27ms/step - loss: 0.0261 - accuracy: 0.9917 - val_loss: 3.6320 - val_accuracy: 0.3944\n",
            "Epoch 16/20\n",
            "34/34 [==============================] - 1s 28ms/step - loss: 0.0224 - accuracy: 0.9921 - val_loss: 3.8314 - val_accuracy: 0.3972\n",
            "Epoch 17/20\n",
            "34/34 [==============================] - 1s 27ms/step - loss: 0.0167 - accuracy: 0.9954 - val_loss: 3.8661 - val_accuracy: 0.3831\n",
            "Epoch 18/20\n",
            "34/34 [==============================] - 1s 28ms/step - loss: 0.0258 - accuracy: 0.9926 - val_loss: 4.1190 - val_accuracy: 0.4310\n",
            "Epoch 19/20\n",
            "34/34 [==============================] - 1s 27ms/step - loss: 0.0348 - accuracy: 0.9875 - val_loss: 3.5582 - val_accuracy: 0.3991\n",
            "Epoch 20/20\n",
            "34/34 [==============================] - 1s 28ms/step - loss: 0.0234 - accuracy: 0.9921 - val_loss: 3.7346 - val_accuracy: 0.4066\n",
            "WARNING:tensorflow:From <ipython-input-35-c76844f25474>:2: Sequential.predict_classes (from tensorflow.python.keras.engine.sequential) is deprecated and will be removed after 2021-01-01.\n",
            "Instructions for updating:\n",
            "Please use instead:* `np.argmax(model.predict(x), axis=-1)`,   if your model does multi-class classification   (e.g. if it uses a `softmax` last-layer activation).* `(model.predict(x) > 0.5).astype(\"int32\")`,   if your model does binary classification   (e.g. if it uses a `sigmoid` last-layer activation).\n"
          ],
          "name": "stdout"
        },
        {
          "output_type": "execute_result",
          "data": {
            "text/plain": [
              "0.40657276995305164"
            ]
          },
          "metadata": {
            "tags": []
          },
          "execution_count": 35
        }
      ]
    },
    {
      "cell_type": "code",
      "metadata": {
        "id": "0q2_c4S0ysrv",
        "colab_type": "code",
        "outputId": "2db6e254-37e0-4f1e-d5c9-c001bff08851",
        "colab": {
          "base_uri": "https://localhost:8080/",
          "height": 34
        }
      },
      "source": [
        "y_pred=(model.predict_classes(X_test))\n",
        "# to_categorical(y_pred)\n",
        "from sklearn.metrics import accuracy_score\n",
        "accuracy_score(y_test,to_categorical(y_pred))"
      ],
      "execution_count": 0,
      "outputs": [
        {
          "output_type": "execute_result",
          "data": {
            "text/plain": [
              "0.40657276995305164"
            ]
          },
          "metadata": {
            "tags": []
          },
          "execution_count": 36
        }
      ]
    },
    {
      "cell_type": "code",
      "metadata": {
        "id": "f6RbshExqFie",
        "colab_type": "code",
        "outputId": "7644451d-4d89-48b2-b087-65d172d71ba7",
        "colab": {
          "base_uri": "https://localhost:8080/",
          "height": 105
        }
      },
      "source": [
        "print(history.history['loss'])\n",
        "print(history.history['accuracy'])\n",
        "print(history.history['val_loss'])\n",
        "print(history.history['val_accuracy'])"
      ],
      "execution_count": 0,
      "outputs": [
        {
          "output_type": "stream",
          "text": [
            "[1.0403608083724976, 0.9626645445823669, 0.7568731307983398, 0.47655200958251953, 0.276324599981308, 0.1672147959470749, 0.11423604935407639, 0.06976431608200073, 0.05967698246240616, 0.04146566241979599, 0.03348005935549736, 0.029145654290914536, 0.02126241847872734, 0.01986510679125786, 0.026132160797715187, 0.022375525906682014, 0.016699843108654022, 0.02577441930770874, 0.03477784991264343, 0.023381458595395088]\n",
            "[0.522201657295227, 0.5402405261993408, 0.6901017427444458, 0.8237742781639099, 0.9084181189537048, 0.9412580728530884, 0.9680851101875305, 0.9842737913131714, 0.9814985990524292, 0.9893617033958435, 0.9921368956565857, 0.9916743636131287, 0.9939870238304138, 0.9944495558738708, 0.9916743636131287, 0.9921368956565857, 0.9953746795654297, 0.9925994277000427, 0.9875115752220154, 0.9921368956565857]\n",
            "[1.0306267738342285, 1.0687997341156006, 1.2285315990447998, 1.489437222480774, 1.8493136167526245, 2.335947275161743, 2.6357903480529785, 3.0013020038604736, 3.267638683319092, 2.977583646774292, 3.3143210411071777, 3.9653046131134033, 3.4049181938171387, 3.845759630203247, 3.6319687366485596, 3.8313567638397217, 3.8660738468170166, 4.119036674499512, 3.558229923248291, 3.7345736026763916]\n",
            "[0.5117371082305908, 0.46666666865348816, 0.4600938856601715, 0.4131455421447754, 0.39061033725738525, 0.3877934217453003, 0.3877934217453003, 0.3746478855609894, 0.41032862663269043, 0.40657275915145874, 0.3971830904483795, 0.4046948254108429, 0.4046948254108429, 0.37370893359184265, 0.39436620473861694, 0.3971830904483795, 0.3830986022949219, 0.4309859275817871, 0.39906102418899536, 0.40657275915145874]\n"
          ],
          "name": "stdout"
        }
      ]
    },
    {
      "cell_type": "code",
      "metadata": {
        "id": "dnh8bj2Xqzcw",
        "colab_type": "code",
        "outputId": "66ebbcda-37d0-4c16-95f8-f424a47f70ae",
        "colab": {
          "base_uri": "https://localhost:8080/",
          "height": 295
        }
      },
      "source": [
        "from matplotlib import pyplot\n",
        "pyplot.plot(history.history['loss'])\n",
        "pyplot.plot(history.history['val_loss'])\n",
        "pyplot.title('model train vs validation loss')\n",
        "pyplot.ylabel('loss')\n",
        "pyplot.xlabel('epoch')\n",
        "pyplot.legend(['train', 'validation'], loc='upper left')\n",
        "pyplot.show()"
      ],
      "execution_count": 0,
      "outputs": [
        {
          "output_type": "display_data",
          "data": {
            "image/png": "[encoded data removed]",
            "text/plain": [
              "<Figure size 432x288 with 1 Axes>"
            ]
          },
          "metadata": {
            "tags": [],
            "needs_background": "light"
          }
        }
      ]
    },
    {
      "cell_type": "code",
      "metadata": {
        "id": "xMcEzUax9BH9",
        "colab_type": "code",
        "outputId": "207cf447-c1a7-483c-cc60-c19fde4901e3",
        "colab": {
          "base_uri": "https://localhost:8080/",
          "height": 34
        }
      },
      "source": [
        "from sklearn.metrics import f1_score\n",
        "f1_score(y_test,to_categorical(y_pred), average='weighted')\n"
      ],
      "execution_count": 0,
      "outputs": [
        {
          "output_type": "execute_result",
          "data": {
            "text/plain": [
              "0.39155903237039996"
            ]
          },
          "metadata": {
            "tags": []
          },
          "execution_count": 39
        }
      ]
    },
    {
      "cell_type": "code",
      "metadata": {
        "id": "d7tkUGZPeFj_",
        "colab_type": "code",
        "colab": {}
      },
      "source": [
        "yt=[]\n",
        "for i in range(len(y_test)):\n",
        "  if(int((y_test[i])[0])==1 and int((y_test[i])[1])==0 and int((y_test[i])[2])==0):\n",
        "    yt.append(0)\n",
        "  if(int((y_test[i])[0])==0 and int((y_test[i])[1])==1 and int((y_test[i])[2])==0):\n",
        "    yt.append(1)\n",
        "  if(int((y_test[i])[0])==0 and int((y_test[i])[1])==0 and int((y_test[i])[2])==1):\n",
        "    yt.append(2)\n"
      ],
      "execution_count": 0,
      "outputs": []
    },
    {
      "cell_type": "code",
      "metadata": {
        "id": "n_8gaG5XALN5",
        "colab_type": "code",
        "outputId": "05cbad87-caeb-451f-b001-d98fc487f7ca",
        "colab": {
          "base_uri": "https://localhost:8080/",
          "height": 68
        }
      },
      "source": [
        "from sklearn.metrics import confusion_matrix\n",
        "# print(reverse_catagorial(y_test))\n",
        "\n",
        "print(confusion_matrix(yt,y_pred))"
      ],
      "execution_count": 0,
      "outputs": [
        {
          "output_type": "stream",
          "text": [
            "[[ 63 150  52]\n",
            " [125 329  91]\n",
            " [ 59 155  41]]\n"
          ],
          "name": "stdout"
        }
      ]
    },
    {
      "cell_type": "code",
      "metadata": {
        "id": "4utYU_0VALGM",
        "colab_type": "code",
        "colab": {}
      },
      "source": [
        "\n",
        "# for i in range(10):\n",
        "# print(to_categorical(y_pred))"
      ],
      "execution_count": 0,
      "outputs": []
    },
    {
      "cell_type": "code",
      "metadata": {
        "id": "fMrhqAADDjpW",
        "colab_type": "code",
        "outputId": "a714a238-f2f5-4a08-a664-5090472b305e",
        "colab": {
          "base_uri": "https://localhost:8080/",
          "height": 34
        }
      },
      "source": [
        "from collections import Counter\n",
        " \n",
        "print(Counter(y_pred))"
      ],
      "execution_count": 0,
      "outputs": [
        {
          "output_type": "stream",
          "text": [
            "Counter({1: 634, 0: 247, 2: 184})\n"
          ],
          "name": "stdout"
        }
      ]
    },
    {
      "cell_type": "code",
      "metadata": {
        "id": "vt1zy1DIOcK5",
        "colab_type": "code",
        "colab": {}
      },
      "source": [
        "y_pred=(model.predict_classes(X_unknown))"
      ],
      "execution_count": 0,
      "outputs": []
    },
    {
      "cell_type": "code",
      "metadata": {
        "id": "GnsNZObXPDI-",
        "colab_type": "code",
        "outputId": "850a3241-0d57-4605-d574-de770137134a",
        "colab": {
          "base_uri": "https://localhost:8080/",
          "height": 34
        }
      },
      "source": [
        "print(Counter(y_pred))"
      ],
      "execution_count": 0,
      "outputs": [
        {
          "output_type": "stream",
          "text": [
            "Counter({1: 833, 0: 322, 2: 232})\n"
          ],
          "name": "stdout"
        }
      ]
    },
    {
      "cell_type": "code",
      "metadata": {
        "id": "vInKxWy_POgn",
        "colab_type": "code",
        "outputId": "2b1bcad6-56b2-4983-ffb7-9d2fc5ee8aa4",
        "colab": {
          "base_uri": "https://localhost:8080/",
          "height": 1000
        }
      },
      "source": [
        "print('id','sentiment_class')\n",
        "for i in range(len(y_pred)):\n",
        "  print(tdf['id'][i],int(y_pred[i])-1)"
      ],
      "execution_count": 0,
      "outputs": [
        {
          "output_type": "stream",
          "text": [
            "id sentiment_class\n",
            "1.24662826558803e+18 0\n",
            "1.2458984966345e+18 0\n",
            "1.24471702970725e+18 1\n",
            "1.24572954337939e+18 0\n",
            "1.2446364991335e+18 0\n",
            "1.24404821748401e+18 0\n",
            "1.24391941485832e+18 -1\n",
            "1.24624507009909e+18 1\n",
            "1.24613942162101e+18 -1\n",
            "1.24425473344071e+18 1\n",
            "1.24423312535969e+18 0\n",
            "1.24424915548612e+18 0\n",
            "1.2453849846906e+18 0\n",
            "1.24541039325571e+18 0\n",
            "1.24508270823085e+18 1\n",
            "1.24611399659338e+18 1\n",
            "1.24464221195171e+18 0\n",
            "1.24588070059263e+18 0\n",
            "1.24614303479173e+18 0\n",
            "1.24461437661265e+18 0\n",
            "1.24567101138896e+18 0\n",
            "1.24466423824276e+18 0\n",
            "1.24392227379239e+18 0\n",
            "1.24436091386982e+18 0\n",
            "1.24645851811222e+18 0\n",
            "1.2442556070431e+18 -1\n",
            "1.24395274359883e+18 0\n",
            "1.24580319832727e+18 -1\n",
            "1.2450578087955e+18 0\n",
            "1.24584665451674e+18 0\n",
            "1.2457011452696e+18 -1\n",
            "1.24445054073984e+18 0\n",
            "1.24565420007732e+18 0\n",
            "1.24465196968545e+18 0\n",
            "1.24616296765532e+18 0\n",
            "1.24391576999546e+18 1\n",
            "1.24467078967421e+18 -1\n",
            "1.24408950323461e+18 1\n",
            "1.24582705275156e+18 0\n",
            "1.24567395564358e+18 -1\n",
            "1.24668752307989e+18 0\n",
            "1.24599764090459e+18 0\n",
            "1.24447568934184e+18 0\n",
            "1.24441552768394e+18 1\n",
            "1.2460340302247e+18 0\n",
            "1.24465665855644e+18 1\n",
            "1.24422233484978e+18 1\n",
            "1.24556525003391e+18 0\n",
            "1.24391645404454e+18 0\n",
            "1.24660279862983e+18 1\n",
            "1.24632315928613e+18 1\n",
            "1.24468255250341e+18 0\n",
            "1.24580894138634e+18 1\n",
            "1.24499140768693e+18 1\n",
            "1.24555693519935e+18 0\n",
            "1.24632298184599e+18 -1\n",
            "1.24552631432236e+18 0\n",
            "1.24648014404436e+18 1\n",
            "1.24504737074587e+18 0\n",
            "1.24621928742304e+18 -1\n",
            "1.24588817704021e+18 1\n",
            "1.24596765739389e+18 0\n",
            "1.2453051009413e+18 0\n",
            "1.24412616515935e+18 1\n",
            "1.24541404044635e+18 0\n",
            "1.24618832530576e+18 0\n",
            "1.24437911089968e+18 0\n",
            "1.24606812968548e+18 0\n",
            "1.24649900681509e+18 0\n",
            "1.24509904850539e+18 0\n",
            "1.24588257237633e+18 0\n",
            "1.24466363803367e+18 0\n",
            "1.24590555514055e+18 0\n",
            "1.24439910556628e+18 -1\n",
            "1.24503532017064e+18 -1\n",
            "1.24509141978366e+18 -1\n",
            "1.24530376943857e+18 0\n",
            "1.24415376076043e+18 0\n",
            "1.24532771605812e+18 0\n",
            "1.24525089029615e+18 0\n",
            "1.24621868323357e+18 0\n",
            "1.24499256401861e+18 0\n",
            "1.24652924477739e+18 1\n",
            "1.24575956338466e+18 0\n",
            "1.24588078017954e+18 0\n",
            "1.24549289188102e+18 -1\n",
            "1.24646282508361e+18 0\n",
            "1.24672008099146e+18 0\n",
            "1.24584969585272e+18 0\n",
            "1.24516144931352e+18 1\n",
            "1.24579686447926e+18 0\n",
            "1.24563767326126e+18 0\n",
            "1.24618087937185e+18 0\n",
            "1.24588370793796e+18 0\n",
            "1.24553348940925e+18 -1\n",
            "1.24418384422965e+18 1\n",
            "1.24570465098634e+18 0\n",
            "1.2458892568889e+18 0\n",
            "1.24608351777735e+18 -1\n",
            "1.2449890076139e+18 1\n",
            "1.24436020546027e+18 1\n",
            "1.24430935669234e+18 0\n",
            "1.24499146979199e+18 0\n",
            "1.24512633174823e+18 0\n",
            "1.24554457899383e+18 1\n",
            "1.24653973991155e+18 0\n",
            "1.24603254889295e+18 0\n",
            "1.24638219634607e+18 -1\n",
            "1.24514530207351e+18 0\n",
            "1.24425072666415e+18 0\n",
            "1.24430507133e+18 -1\n",
            "1.24588207820765e+18 0\n",
            "1.24618122490698e+18 0\n",
            "1.24432868941808e+18 0\n",
            "1.2459348891547e+18 0\n",
            "1.24549669221818e+18 0\n",
            "1.24617532384831e+18 0\n",
            "1.24487026160776e+18 0\n",
            "1.24437894717923e+18 -1\n",
            "1.24545035553574e+18 0\n",
            "1.24646037917528e+18 1\n",
            "1.24425639308482e+18 0\n",
            "1.24457996150946e+18 0\n",
            "1.24581026407277e+18 0\n",
            "1.24511500477431e+18 0\n",
            "1.24476956091972e+18 -1\n",
            "1.24581746314672e+18 0\n",
            "1.24438559154794e+18 0\n",
            "1.245221937649e+18 0\n",
            "1.24442343710547e+18 0\n",
            "1.24580246899631e+18 -1\n",
            "1.24578422955796e+18 0\n",
            "1.24646085686447e+18 0\n",
            "1.24614309719047e+18 1\n",
            "1.24398038160022e+18 0\n",
            "1.24653947235701e+18 0\n",
            "1.24584976874152e+18 0\n",
            "1.2458179237945e+18 0\n",
            "1.24583450942312e+18 0\n",
            "1.24400684554037e+18 0\n",
            "1.24437855552349e+18 0\n",
            "1.24622524458046e+18 0\n",
            "1.24500032696654e+18 -1\n",
            "1.24394222258589e+18 -1\n",
            "1.24598557473065e+18 0\n",
            "1.24469351600719e+18 0\n",
            "1.24603390078011e+18 0\n",
            "1.24586973360743e+18 1\n",
            "1.24497282288526e+18 -1\n",
            "1.24607774594098e+18 0\n",
            "1.24583473611694e+18 -1\n",
            "1.24511626335509e+18 1\n",
            "1.24655972424748e+18 0\n",
            "1.24578636755417e+18 0\n",
            "1.24465621114184e+18 0\n",
            "1.24587850570496e+18 0\n",
            "1.24614519803338e+18 0\n",
            "1.24462128441744e+18 -1\n",
            "1.24612139345822e+18 0\n",
            "1.24651402729721e+18 0\n",
            "1.24435198791267e+18 0\n",
            "1.24521935196108e+18 0\n",
            "1.24634559773017e+18 -1\n",
            "1.24522746703351e+18 0\n",
            "1.24662284871156e+18 0\n",
            "1.2455287863571e+18 0\n",
            "1.24485143410713e+18 -1\n",
            "1.24661483633689e+18 0\n",
            "1.2457374809949e+18 0\n",
            "1.24573574866327e+18 0\n",
            "1.24443307278073e+18 0\n",
            "1.2464573626695e+18 -1\n",
            "1.24596258957571e+18 0\n",
            "1.24489141663282e+18 1\n",
            "1.24391611201588e+18 0\n",
            "1.24429814643343e+18 1\n",
            "1.24587895628225e+18 1\n",
            "1.24462457344374e+18 1\n",
            "1.24422536856491e+18 -1\n",
            "1.24573324514214e+18 0\n",
            "1.24582750481808e+18 0\n",
            "1.24464234825828e+18 0\n",
            "1.24430745409315e+18 0\n",
            "1.24478593416556e+18 0\n",
            "1.24438062448979e+18 0\n",
            "1.24477312300357e+18 0\n",
            "1.2447645145848e+18 0\n",
            "1.24571913268055e+18 -1\n",
            "1.24478582051666e+18 0\n",
            "1.24544586128012e+18 0\n",
            "1.24421113043371e+18 0\n",
            "1.24515049051134e+18 0\n",
            "1.24582157958346e+18 0\n",
            "1.24610110646122e+18 -1\n",
            "1.24509982417473e+18 1\n",
            "1.24426986625901e+18 -1\n",
            "1.2447204907799e+18 -1\n",
            "1.24453652674011e+18 -1\n",
            "1.24450020263295e+18 0\n",
            "1.24646032217888e+18 0\n",
            "1.24485227173896e+18 0\n",
            "1.24617135457295e+18 1\n",
            "1.2461485641092e+18 0\n",
            "1.2460982377041e+18 0\n",
            "1.24569121338422e+18 0\n",
            "1.24484472371966e+18 0\n",
            "1.24417471196316e+18 -1\n",
            "1.24518211041296e+18 -1\n",
            "1.2458734643318e+18 0\n",
            "1.24405348530752e+18 -1\n",
            "1.24538272344064e+18 0\n",
            "1.24478137815313e+18 0\n",
            "1.24396244954145e+18 0\n",
            "1.24397366018202e+18 -1\n",
            "1.24662734549205e+18 1\n",
            "1.24621293082113e+18 0\n",
            "1.24607699497182e+18 0\n",
            "1.2458571992822e+18 1\n",
            "1.24550757117309e+18 0\n",
            "1.24438407925403e+18 -1\n",
            "1.24523355761592e+18 0\n",
            "1.2447587091898e+18 -1\n",
            "1.24416800055671e+18 0\n",
            "1.24543947166081e+18 0\n",
            "1.24478586757255e+18 0\n",
            "1.24556520303673e+18 0\n",
            "1.24400341139112e+18 -1\n",
            "1.24445000987093e+18 -1\n",
            "1.24627632318786e+18 -1\n",
            "1.24530671632297e+18 0\n",
            "1.24532490115158e+18 1\n",
            "1.2439865361374e+18 0\n",
            "1.24545836464291e+18 1\n",
            "1.24560752100116e+18 0\n",
            "1.24479012737896e+18 0\n",
            "1.24576444538663e+18 0\n",
            "1.24540231625094e+18 0\n",
            "1.24506359223339e+18 0\n",
            "1.24396205655194e+18 -1\n",
            "1.24611530723768e+18 0\n",
            "1.24580118011201e+18 1\n",
            "1.24550882790838e+18 -1\n",
            "1.24571414850959e+18 0\n",
            "1.2447916126827e+18 1\n",
            "1.24412721855878e+18 0\n",
            "1.24400686957378e+18 0\n",
            "1.24649079858316e+18 1\n",
            "1.24588928369477e+18 0\n",
            "1.24404490579998e+18 0\n",
            "1.24626943678663e+18 0\n",
            "1.24538444230822e+18 0\n",
            "1.24603299395473e+18 0\n",
            "1.24567229763524e+18 -1\n",
            "1.24517198342521e+18 0\n",
            "1.24391172314231e+18 1\n",
            "1.24560470295317e+18 0\n",
            "1.24613638884581e+18 0\n",
            "1.24581915134574e+18 0\n",
            "1.24662765629411e+18 0\n",
            "1.24402186101028e+18 0\n",
            "1.24596467359546e+18 0\n",
            "1.24639206876477e+18 0\n",
            "1.24619365491146e+18 1\n",
            "1.24531837499061e+18 -1\n",
            "1.24461111122955e+18 0\n",
            "1.24586485589188e+18 0\n",
            "1.24575235187452e+18 -1\n",
            "1.24582162817437e+18 0\n",
            "1.24477223878973e+18 -1\n",
            "1.24437885266898e+18 0\n",
            "1.24391085057183e+18 0\n",
            "1.24527757784715e+18 -1\n",
            "1.2450297245831e+18 -1\n",
            "1.24478677787059e+18 0\n",
            "1.24392411380002e+18 0\n",
            "1.24523097187364e+18 1\n",
            "1.24573739062846e+18 0\n",
            "1.24434735933053e+18 -1\n",
            "1.24465942004002e+18 0\n",
            "1.24494001781184e+18 1\n",
            "1.24617538920406e+18 0\n",
            "1.24650184041119e+18 -1\n",
            "1.24596143224973e+18 -1\n",
            "1.24405669393326e+18 0\n",
            "1.2462261998122e+18 0\n",
            "1.24551432069339e+18 0\n",
            "1.24620334083863e+18 0\n",
            "1.24588814462244e+18 -1\n",
            "1.24646102646958e+18 0\n",
            "1.24495259680634e+18 0\n",
            "1.24478605349352e+18 0\n",
            "1.24462040836988e+18 -1\n",
            "1.24611035319858e+18 -1\n",
            "1.24472027266355e+18 0\n",
            "1.24420267843715e+18 0\n",
            "1.24525269051231e+18 0\n",
            "1.24415579246871e+18 -1\n",
            "1.2466948966831e+18 -1\n",
            "1.24463375725403e+18 0\n",
            "1.2452427966358e+18 0\n",
            "1.24471622988304e+18 -1\n",
            "1.244536716721e+18 0\n",
            "1.24661541555339e+18 0\n",
            "1.24513953316052e+18 0\n",
            "1.24484841918253e+18 0\n",
            "1.24579196680736e+18 -1\n",
            "1.24397238780214e+18 0\n",
            "1.24629474665968e+18 0\n",
            "1.24476642998088e+18 0\n",
            "1.24416497296969e+18 0\n",
            "1.24460317852141e+18 0\n",
            "1.24443778545453e+18 0\n",
            "1.24525185089658e+18 -1\n",
            "1.24489627217719e+18 -1\n",
            "1.24481422734653e+18 0\n",
            "1.2459122519633e+18 0\n",
            "1.24465876485219e+18 1\n",
            "1.24432601667333e+18 -1\n",
            "1.24475454614606e+18 1\n",
            "1.24613704123205e+18 -1\n",
            "1.24508847711429e+18 0\n",
            "1.24572865721104e+18 0\n",
            "1.24479128583721e+18 0\n",
            "1.24547871368226e+18 -1\n",
            "1.24633730476932e+18 0\n",
            "1.24577146769602e+18 0\n",
            "1.24477486520417e+18 0\n",
            "1.24520769695087e+18 0\n",
            "1.2460778341263e+18 -1\n",
            "1.24405410938639e+18 0\n",
            "1.24403660476065e+18 0\n",
            "1.24397269466582e+18 0\n",
            "1.24517910711518e+18 1\n",
            "1.24461563179588e+18 0\n",
            "1.24514642389464e+18 1\n",
            "1.24633250932081e+18 -1\n",
            "1.24648519499295e+18 -1\n",
            "1.2466006137538e+18 0\n",
            "1.24664699308413e+18 0\n",
            "1.24536379486133e+18 0\n",
            "1.24581824993948e+18 -1\n",
            "1.24504070369824e+18 0\n",
            "1.24643258433632e+18 0\n",
            "1.24650795184362e+18 0\n",
            "1.24611358355514e+18 -1\n",
            "1.24622258805091e+18 1\n",
            "1.24411188094108e+18 1\n",
            "1.24661258106801e+18 1\n",
            "1.24571302590405e+18 0\n",
            "1.24475094570523e+18 0\n",
            "1.24612450446572e+18 0\n",
            "1.24495269692012e+18 0\n",
            "1.24442404952832e+18 -1\n",
            "1.24613384781901e+18 0\n",
            "1.24488253835251e+18 0\n",
            "1.24566196959785e+18 1\n",
            "1.24439904501305e+18 1\n",
            "1.24643713351624e+18 1\n",
            "1.24410453757472e+18 0\n",
            "1.24525089941459e+18 1\n",
            "1.24576189685214e+18 -1\n",
            "1.24515296372481e+18 0\n",
            "1.24576633305429e+18 0\n",
            "1.24599953260696e+18 0\n",
            "1.24599863849439e+18 1\n",
            "1.24580351436805e+18 0\n",
            "1.24426983314493e+18 1\n",
            "1.24552889752294e+18 0\n",
            "1.24461475520313e+18 -1\n",
            "1.24465743590785e+18 0\n",
            "1.2444119621818e+18 0\n",
            "1.24469270376764e+18 0\n",
            "1.24612758276188e+18 -1\n",
            "1.24404957642166e+18 0\n",
            "1.24419178637912e+18 0\n",
            "1.24557615961139e+18 -1\n",
            "1.24404969134979e+18 -1\n",
            "1.24469804237e+18 0\n",
            "1.24615979004631e+18 1\n",
            "1.24417576079922e+18 -1\n",
            "1.24597736030382e+18 0\n",
            "1.24646287251699e+18 1\n",
            "1.24579334993784e+18 -1\n",
            "1.24662854912728e+18 0\n",
            "1.24604550475833e+18 -1\n",
            "1.24468713597585e+18 0\n",
            "1.24491249116507e+18 0\n",
            "1.24569951468773e+18 0\n",
            "1.24542129726743e+18 -1\n",
            "1.24648645525552e+18 0\n",
            "1.24660837825371e+18 -1\n",
            "1.24395738635374e+18 -1\n",
            "1.24581704937449e+18 0\n",
            "1.24414167599747e+18 0\n",
            "1.24534779006834e+18 -1\n",
            "1.24441026785064e+18 -1\n",
            "1.24405316614197e+18 -1\n",
            "1.24481596833081e+18 0\n",
            "1.24394695522462e+18 0\n",
            "1.24468674374115e+18 -1\n",
            "1.24604554687746e+18 1\n",
            "1.24585710155497e+18 1\n",
            "1.24614167347592e+18 0\n",
            "1.2464763871853e+18 1\n",
            "1.24521407459146e+18 1\n",
            "1.24405321910346e+18 0\n",
            "1.24407193573624e+18 -1\n",
            "1.24617420300449e+18 -1\n",
            "1.24546443735356e+18 -1\n",
            "1.24546853781842e+18 0\n",
            "1.24640969388037e+18 0\n",
            "1.24502990515231e+18 -1\n",
            "1.24569963238835e+18 -1\n",
            "1.24503311478875e+18 -1\n",
            "1.24555263679284e+18 1\n",
            "1.24498593487092e+18 1\n",
            "1.24484359219306e+18 -1\n",
            "1.24547033634855e+18 0\n",
            "1.24662709341436e+18 1\n",
            "1.24511635914025e+18 0\n",
            "1.24561999876619e+18 -1\n",
            "1.24413669493012e+18 0\n",
            "1.24452633274417e+18 0\n",
            "1.24651691576751e+18 -1\n",
            "1.24488875247821e+18 0\n",
            "1.24585095633752e+18 -1\n",
            "1.24560549724952e+18 0\n",
            "1.24507946132793e+18 0\n",
            "1.24534078803847e+18 1\n",
            "1.2458608962886e+18 0\n",
            "1.2446153809681e+18 0\n",
            "1.24543364606193e+18 1\n",
            "1.2461384047038e+18 0\n",
            "1.24452727931043e+18 -1\n",
            "1.24392079562739e+18 -1\n",
            "1.24396616519564e+18 0\n",
            "1.24415981895435e+18 -1\n",
            "1.24427847315098e+18 0\n",
            "1.24416398078185e+18 0\n",
            "1.2461960579372e+18 -1\n",
            "1.24576136874319e+18 0\n",
            "1.24475033616381e+18 0\n",
            "1.24547319134838e+18 -1\n",
            "1.24396869996875e+18 -1\n",
            "1.24427574873257e+18 0\n",
            "1.24511170944823e+18 0\n",
            "1.24411898503918e+18 -1\n",
            "1.24542378590757e+18 -1\n",
            "1.24553520474952e+18 0\n",
            "1.24625276041425e+18 0\n",
            "1.24616224362601e+18 0\n",
            "1.24497065041194e+18 0\n",
            "1.24618314177931e+18 0\n",
            "1.24590623979776e+18 0\n",
            "1.24646024241152e+18 0\n",
            "1.24640893367096e+18 0\n",
            "1.24623252175638e+18 0\n",
            "1.24641061302831e+18 0\n",
            "1.24646257144573e+18 -1\n",
            "1.2461839629191e+18 0\n",
            "1.24447869098314e+18 -1\n",
            "1.24437907224915e+18 0\n",
            "1.2458852663065e+18 -1\n",
            "1.24543530972403e+18 0\n",
            "1.24462790195541e+18 1\n",
            "1.24619407721892e+18 0\n",
            "1.24605309365918e+18 0\n",
            "1.24650565801236e+18 0\n",
            "1.24594591292645e+18 0\n",
            "1.24468443590107e+18 0\n",
            "1.24573683316364e+18 0\n",
            "1.24580594986201e+18 0\n",
            "1.24613790351801e+18 0\n",
            "1.24478637085975e+18 0\n",
            "1.24662721972163e+18 1\n",
            "1.24624547489137e+18 0\n",
            "1.24464120798219e+18 0\n",
            "1.24470167884e+18 0\n",
            "1.24404887702982e+18 1\n",
            "1.2454139753464e+18 0\n",
            "1.24632276398118e+18 -1\n",
            "1.24637639440752e+18 0\n",
            "1.2460844173969e+18 0\n",
            "1.2463040020165e+18 0\n",
            "1.24580469658717e+18 -1\n",
            "1.24442114402492e+18 0\n",
            "1.24463369371042e+18 0\n",
            "1.24651110769243e+18 0\n",
            "1.24498842161509e+18 0\n",
            "1.2446136776948e+18 1\n",
            "1.24544602075192e+18 0\n",
            "1.24670827007029e+18 0\n",
            "1.24470218202228e+18 0\n",
            "1.2453867913451e+18 -1\n",
            "1.24542803557631e+18 0\n",
            "1.24617399430012e+18 1\n",
            "1.2458786462184e+18 0\n",
            "1.24561444305838e+18 0\n",
            "1.24455763975907e+18 0\n",
            "1.2457300220376e+18 0\n",
            "1.24633480738005e+18 0\n",
            "1.24636967698221e+18 1\n",
            "1.24426276225309e+18 0\n",
            "1.24542583708992e+18 -1\n",
            "1.24495549960445e+18 -1\n",
            "1.24548567516576e+18 1\n",
            "1.24397994961631e+18 0\n",
            "1.24581691583619e+18 0\n",
            "1.24615157454575e+18 0\n",
            "1.24396675222195e+18 -1\n",
            "1.24461537484864e+18 -1\n",
            "1.24526456485541e+18 0\n",
            "1.24516810482653e+18 0\n",
            "1.24441757869875e+18 1\n",
            "1.2450065911596e+18 -1\n",
            "1.24458681615567e+18 1\n",
            "1.24551436441892e+18 0\n",
            "1.24506187796238e+18 0\n",
            "1.24655456865948e+18 -1\n",
            "1.24646364562376e+18 -1\n",
            "1.24437904938172e+18 0\n",
            "1.24506220546624e+18 0\n",
            "1.24555651308048e+18 -1\n",
            "1.24577804558947e+18 1\n",
            "1.24658841031727e+18 1\n",
            "1.24462545347173e+18 0\n",
            "1.24460981302945e+18 0\n",
            "1.24588939167286e+18 1\n",
            "1.24588930537091e+18 -1\n",
            "1.24436808818891e+18 1\n",
            "1.2461514299051e+18 1\n",
            "1.24461239877602e+18 1\n",
            "1.24432382782961e+18 0\n",
            "1.24510096193414e+18 0\n",
            "1.24581842610866e+18 1\n",
            "1.24418716866442e+18 -1\n",
            "1.24609800541496e+18 0\n",
            "1.2440404443565e+18 1\n",
            "1.24641152356576e+18 0\n",
            "1.24424948797701e+18 -1\n",
            "1.24418037974721e+18 -1\n",
            "1.24504888649581e+18 0\n",
            "1.24486635294019e+18 1\n",
            "1.24560755810398e+18 0\n",
            "1.24588665992682e+18 0\n",
            "1.24669973159158e+18 -1\n",
            "1.2461531771053e+18 0\n",
            "1.24502412673938e+18 0\n",
            "1.2458022265238e+18 0\n",
            "1.24463110253233e+18 -1\n",
            "1.24508102811023e+18 0\n",
            "1.24602649428516e+18 1\n",
            "1.24603493053619e+18 1\n",
            "1.2461461432364e+18 0\n",
            "1.24466151407157e+18 0\n",
            "1.24525086497514e+18 -1\n",
            "1.24584233394742e+18 -1\n",
            "1.24446692607359e+18 0\n",
            "1.2461252152535e+18 1\n",
            "1.24392433006252e+18 0\n",
            "1.24477664217978e+18 -1\n",
            "1.24506857028083e+18 -1\n",
            "1.24658184610159e+18 0\n",
            "1.2449866718353e+18 1\n",
            "1.24480343191257e+18 1\n",
            "1.24573589768693e+18 0\n",
            "1.24630205484025e+18 1\n",
            "1.24487653509134e+18 0\n",
            "1.24509624211759e+18 1\n",
            "1.24588109083068e+18 1\n",
            "1.24539958099423e+18 0\n",
            "1.24500075468073e+18 -1\n",
            "1.24471272518547e+18 0\n",
            "1.24464344965733e+18 0\n",
            "1.24473232765954e+18 -1\n",
            "1.24606338741248e+18 0\n",
            "1.24535432336363e+18 -1\n",
            "1.24652159118324e+18 0\n",
            "1.24518495584977e+18 1\n",
            "1.24473091339056e+18 0\n",
            "1.24457995498313e+18 0\n",
            "1.24539812023577e+18 0\n",
            "1.24518578409483e+18 0\n",
            "1.24588108007224e+18 0\n",
            "1.2447038618284e+18 -1\n",
            "1.24507138523756e+18 0\n",
            "1.24417151220819e+18 0\n",
            "1.24646805811124e+18 0\n",
            "1.24480982954748e+18 0\n",
            "1.24500854795346e+18 -1\n",
            "1.24646262223453e+18 0\n",
            "1.24589624042173e+18 0\n",
            "1.24405057792488e+18 0\n",
            "1.24401126402998e+18 -1\n",
            "1.24427841554244e+18 0\n",
            "1.24576352774003e+18 0\n",
            "1.24501604371982e+18 1\n",
            "1.24453927206288e+18 -1\n",
            "1.24415971797229e+18 0\n",
            "1.24621146552426e+18 0\n",
            "1.24587881768154e+18 0\n",
            "1.24587991064167e+18 -1\n",
            "1.24535906053643e+18 -1\n",
            "1.24547857870954e+18 0\n",
            "1.24505479509579e+18 0\n",
            "1.24474249100316e+18 0\n",
            "1.24424741108346e+18 0\n",
            "1.24646269169224e+18 0\n",
            "1.24461455542004e+18 1\n",
            "1.24645108211024e+18 0\n",
            "1.24448135235284e+18 1\n",
            "1.24502579260371e+18 -1\n",
            "1.24474946746055e+18 0\n",
            "1.24442431723816e+18 0\n",
            "1.24638129259122e+18 -1\n",
            "1.2454143543102e+18 0\n",
            "1.2440496106346e+18 0\n",
            "1.24478704041307e+18 0\n",
            "1.24407647827635e+18 0\n",
            "1.24567238593789e+18 0\n",
            "1.24461391608646e+18 0\n",
            "1.24436574110264e+18 -1\n",
            "1.24439215953875e+18 1\n",
            "1.2459653024179e+18 -1\n",
            "1.24604746717252e+18 0\n",
            "1.24606121790875e+18 0\n",
            "1.24583440618877e+18 -1\n",
            "1.24562776406284e+18 0\n",
            "1.24646108336119e+18 -1\n",
            "1.24404339466768e+18 0\n",
            "1.24621999925516e+18 0\n",
            "1.24662768304957e+18 0\n",
            "1.24654700099421e+18 0\n",
            "1.24499761711491e+18 -1\n",
            "1.24516151880044e+18 0\n",
            "1.24544057317311e+18 0\n",
            "1.24616134240447e+18 1\n",
            "1.24573820357277e+18 -1\n",
            "1.24583443858537e+18 0\n",
            "1.24525762961157e+18 0\n",
            "1.24541929694945e+18 0\n",
            "1.24582115880674e+18 1\n",
            "1.24592408415361e+18 0\n",
            "1.24625985741571e+18 0\n",
            "1.24616360115454e+18 -1\n",
            "1.24508328838699e+18 0\n",
            "1.24551260837297e+18 0\n",
            "1.24405344680799e+18 0\n",
            "1.24436698648802e+18 0\n",
            "1.24499059302303e+18 0\n",
            "1.24547604161692e+18 1\n",
            "1.24464807724953e+18 1\n",
            "1.24500770435312e+18 0\n",
            "1.24497599352322e+18 1\n",
            "1.24449236938443e+18 0\n",
            "1.24404416316472e+18 0\n",
            "1.24588396282581e+18 0\n",
            "1.24647231561912e+18 0\n",
            "1.24653630815729e+18 0\n",
            "1.24582466231709e+18 0\n",
            "1.24671895822242e+18 0\n",
            "1.24402740180756e+18 0\n",
            "1.24605952100661e+18 1\n",
            "1.24612027920763e+18 1\n",
            "1.24661864142624e+18 1\n",
            "1.24597575189735e+18 0\n",
            "1.24478599680752e+18 0\n",
            "1.24621664532191e+18 0\n",
            "1.24433979400978e+18 1\n",
            "1.24578601836983e+18 0\n",
            "1.24397364491885e+18 -1\n",
            "1.24399517436944e+18 -1\n",
            "1.24615133440087e+18 -1\n",
            "1.24588061658078e+18 0\n",
            "1.24605995477314e+18 0\n",
            "1.24541526923888e+18 1\n",
            "1.24616650415383e+18 0\n",
            "1.24621995139817e+18 0\n",
            "1.24587881556344e+18 0\n",
            "1.24394727603833e+18 -1\n",
            "1.24592271549353e+18 -1\n",
            "1.24423298700225e+18 -1\n",
            "1.2439259455826e+18 -1\n",
            "1.24477613089416e+18 0\n",
            "1.24568048332278e+18 0\n",
            "1.24581748205883e+18 0\n",
            "1.2465076742898e+18 0\n",
            "1.2455111987721e+18 0\n",
            "1.24540309887444e+18 0\n",
            "1.24510246318041e+18 1\n",
            "1.2463704607045e+18 0\n",
            "1.24437918187151e+18 0\n",
            "1.24581680717016e+18 1\n",
            "1.24624557886394e+18 0\n",
            "1.24458169165978e+18 0\n",
            "1.24669032766417e+18 0\n",
            "1.24392219692339e+18 0\n",
            "1.24504331747529e+18 0\n",
            "1.24608046043598e+18 0\n",
            "1.24649144215711e+18 0\n",
            "1.24394431043063e+18 1\n",
            "1.24619450820484e+18 -1\n",
            "1.2462010090151e+18 1\n",
            "1.24504081312773e+18 0\n",
            "1.2461373951809e+18 -1\n",
            "1.24602211487814e+18 0\n",
            "1.24625119993598e+18 0\n",
            "1.24396880657955e+18 0\n",
            "1.24568699246315e+18 0\n",
            "1.24505855506299e+18 0\n",
            "1.24518273031017e+18 -1\n",
            "1.2466055476061e+18 0\n",
            "1.24444213000265e+18 1\n",
            "1.24461435653453e+18 1\n",
            "1.24662786650431e+18 0\n",
            "1.24626624843603e+18 -1\n",
            "1.24449955836676e+18 0\n",
            "1.24503044023209e+18 0\n",
            "1.24583317372185e+18 0\n",
            "1.24400106201455e+18 0\n",
            "1.24585839827855e+18 1\n",
            "1.24403655305737e+18 0\n",
            "1.246164818287e+18 -1\n",
            "1.2447843518644e+18 1\n",
            "1.24461432906598e+18 -1\n",
            "1.24456789902251e+18 0\n",
            "1.24581651679016e+18 1\n",
            "1.2441639647513e+18 -1\n",
            "1.24624551734618e+18 1\n",
            "1.24609320799113e+18 0\n",
            "1.24435509279665e+18 0\n",
            "1.24490085117447e+18 1\n",
            "1.24432021673922e+18 1\n",
            "1.2452054575784e+18 0\n",
            "1.24503317644517e+18 0\n",
            "1.24643457102719e+18 0\n",
            "1.24534829684515e+18 0\n",
            "1.24669967987581e+18 1\n",
            "1.24607623150802e+18 1\n",
            "1.24405470526278e+18 1\n",
            "1.24611030834055e+18 0\n",
            "1.24516235089591e+18 0\n",
            "1.24488492442915e+18 -1\n",
            "1.24395599202433e+18 0\n",
            "1.24581794708138e+18 0\n",
            "1.24578079772399e+18 0\n",
            "1.24602791659463e+18 0\n",
            "1.24480537325465e+18 0\n",
            "1.24606909796997e+18 -1\n",
            "1.24607530132026e+18 -1\n",
            "1.24434449770774e+18 0\n",
            "1.24648590557085e+18 0\n",
            "1.2460353491194e+18 0\n",
            "1.24404971744675e+18 0\n",
            "1.24469955604399e+18 1\n",
            "1.24548171671998e+18 1\n",
            "1.2454477312897e+18 1\n",
            "1.24645003601323e+18 0\n",
            "1.24442161226428e+18 0\n",
            "1.24434942518873e+18 -1\n",
            "1.24405334032303e+18 0\n",
            "1.24464772681559e+18 0\n",
            "1.2444337582474e+18 0\n",
            "1.24461395528224e+18 0\n",
            "1.24519694937805e+18 0\n",
            "1.24467098264574e+18 -1\n",
            "1.24588040840908e+18 0\n",
            "1.24544891756046e+18 -1\n",
            "1.24623654442529e+18 -1\n",
            "1.24659356551968e+18 1\n",
            "1.24435624405753e+18 0\n",
            "1.24443167778873e+18 0\n",
            "1.24500070524253e+18 0\n",
            "1.24517241592523e+18 -1\n",
            "1.24618507646924e+18 0\n",
            "1.24613937322306e+18 -1\n",
            "1.24489803209472e+18 0\n",
            "1.24553419623336e+18 1\n",
            "1.24570739555432e+18 0\n",
            "1.24397863371635e+18 0\n",
            "1.24541689129796e+18 0\n",
            "1.24624480930991e+18 0\n",
            "1.24588923565739e+18 0\n",
            "1.24438085017687e+18 0\n",
            "1.2459119391187e+18 -1\n",
            "1.24615062959001e+18 1\n",
            "1.24633256213975e+18 1\n",
            "1.24442588341208e+18 0\n",
            "1.24435113387698e+18 1\n",
            "1.24478406519623e+18 0\n",
            "1.24654488990458e+18 -1\n",
            "1.245743270292e+18 0\n",
            "1.24446588021549e+18 -1\n",
            "1.24622482379103e+18 0\n",
            "1.2452139558004e+18 0\n",
            "1.24587005207674e+18 0\n",
            "1.24589217213575e+18 -1\n",
            "1.24609169005559e+18 0\n",
            "1.24462923057251e+18 0\n",
            "1.24570965087751e+18 -1\n",
            "1.24587549220244e+18 1\n",
            "1.24443370220312e+18 0\n",
            "1.24596990628748e+18 -1\n",
            "1.2456502404572e+18 0\n",
            "1.2446528658698e+18 0\n",
            "1.24466677515495e+18 -1\n",
            "1.24666221285005e+18 -1\n",
            "1.24653929831016e+18 0\n",
            "1.24440603238803e+18 -1\n",
            "1.24461397561624e+18 1\n",
            "1.24608038883501e+18 0\n",
            "1.24588337100113e+18 0\n",
            "1.24393844574516e+18 1\n",
            "1.24583405138416e+18 1\n",
            "1.24477165773187e+18 0\n",
            "1.24561320599441e+18 0\n",
            "1.24560747991376e+18 0\n",
            "1.24660928606053e+18 -1\n",
            "1.24402198091289e+18 0\n",
            "1.2455191802811e+18 0\n",
            "1.244217877215e+18 0\n",
            "1.24611306186752e+18 1\n",
            "1.24513406246294e+18 -1\n",
            "1.24488446250212e+18 0\n",
            "1.24602395435301e+18 -1\n",
            "1.24509196299219e+18 0\n",
            "1.24506354329417e+18 0\n",
            "1.24525270382094e+18 -1\n",
            "1.24578004270734e+18 -1\n",
            "1.24567225500012e+18 -1\n",
            "1.24506180134504e+18 0\n",
            "1.24588119880883e+18 0\n",
            "1.24640145689219e+18 -1\n",
            "1.24596538804481e+18 0\n",
            "1.24415709886019e+18 1\n",
            "1.24555514209244e+18 0\n",
            "1.24642230947435e+18 0\n",
            "1.24576678553558e+18 0\n",
            "1.24581241453854e+18 0\n",
            "1.24608358122467e+18 0\n",
            "1.24465664438825e+18 0\n",
            "1.24613212589772e+18 -1\n",
            "1.24503614066029e+18 1\n",
            "1.24437902774761e+18 -1\n",
            "1.24478908071556e+18 0\n",
            "1.24433394862229e+18 1\n",
            "1.24551568804053e+18 1\n",
            "1.24474870646698e+18 0\n",
            "1.24401121436942e+18 0\n",
            "1.24595225923568e+18 -1\n",
            "1.24397438631661e+18 1\n",
            "1.24489596751574e+18 0\n",
            "1.24410012216797e+18 1\n",
            "1.245387489898e+18 0\n",
            "1.24650309580847e+18 0\n",
            "1.24582144854509e+18 0\n",
            "1.24576352095382e+18 -1\n",
            "1.24651750031514e+18 0\n",
            "1.24392425839434e+18 0\n",
            "1.24582147406725e+18 -1\n",
            "1.24560748899444e+18 0\n",
            "1.24498352963058e+18 0\n",
            "1.24545365812632e+18 0\n",
            "1.2456974929619e+18 0\n",
            "1.24449680764584e+18 1\n",
            "1.24662715854773e+18 0\n",
            "1.24404946097349e+18 1\n",
            "1.24391247833913e+18 0\n",
            "1.24392027193073e+18 1\n",
            "1.24554725769431e+18 1\n",
            "1.24578884233178e+18 0\n",
            "1.24505425133381e+18 0\n",
            "1.24396064529865e+18 1\n",
            "1.2458862286895e+18 1\n",
            "1.24613614901552e+18 0\n",
            "1.2464601581103e+18 0\n",
            "1.24622775081121e+18 0\n",
            "1.24561324579412e+18 0\n",
            "1.24601127423801e+18 -1\n",
            "1.24656420920855e+18 0\n",
            "1.24445091171749e+18 0\n",
            "1.24419212022485e+18 0\n",
            "1.24397528168317e+18 0\n",
            "1.24648266720764e+18 -1\n",
            "1.24478658291956e+18 -1\n",
            "1.24646100843828e+18 -1\n",
            "1.2458180240426e+18 -1\n",
            "1.24542210215874e+18 0\n",
            "1.24538396920751e+18 0\n",
            "1.24398000859249e+18 0\n",
            "1.24547408044018e+18 0\n",
            "1.24590264102198e+18 0\n",
            "1.24602417906711e+18 0\n",
            "1.24662059082541e+18 0\n",
            "1.24411383308771e+18 0\n",
            "1.24582828542831e+18 0\n",
            "1.24396180860146e+18 -1\n",
            "1.24481474364427e+18 1\n",
            "1.24499040760126e+18 0\n",
            "1.24538247257501e+18 1\n",
            "1.2464627381986e+18 1\n",
            "1.24464432821699e+18 1\n",
            "1.24612236614243e+18 0\n",
            "1.2461639847405e+18 0\n",
            "1.24604882191165e+18 0\n",
            "1.24484989120306e+18 0\n",
            "1.24395175704828e+18 0\n",
            "1.24488872754725e+18 0\n",
            "1.2466616928612e+18 0\n",
            "1.24516075524825e+18 1\n",
            "1.24613816147611e+18 -1\n",
            "1.24505329771266e+18 1\n",
            "1.24472608936216e+18 0\n",
            "1.24515328767166e+18 1\n",
            "1.24613397058208e+18 0\n",
            "1.24592030561841e+18 0\n",
            "1.24506335931109e+18 0\n",
            "1.24613828733877e+18 0\n",
            "1.24584697170275e+18 0\n",
            "1.24456522056935e+18 0\n",
            "1.24498044448088e+18 0\n",
            "1.24548729829831e+18 0\n",
            "1.24646027558019e+18 0\n",
            "1.24633728640664e+18 1\n",
            "1.24395091779731e+18 0\n",
            "1.24579387619715e+18 0\n",
            "1.24534729344179e+18 0\n",
            "1.24541478148343e+18 0\n",
            "1.24647870235716e+18 -1\n",
            "1.24540203501038e+18 0\n",
            "1.24425662285729e+18 0\n",
            "1.2439947424694e+18 0\n",
            "1.2451930350732e+18 -1\n",
            "1.24400760540565e+18 0\n",
            "1.24606192505584e+18 -1\n",
            "1.24515704578079e+18 0\n",
            "1.24661344041359e+18 0\n",
            "1.24471920913905e+18 -1\n",
            "1.24431093374209e+18 -1\n",
            "1.24624542924481e+18 -1\n",
            "1.24575492124232e+18 0\n",
            "1.24586915473477e+18 -1\n",
            "1.24648201526996e+18 -1\n",
            "1.24650572997806e+18 0\n",
            "1.24528467804046e+18 0\n",
            "1.24477671090786e+18 0\n",
            "1.24607677743861e+18 0\n",
            "1.24573620416469e+18 1\n",
            "1.24587954544356e+18 0\n",
            "1.24530631187869e+18 0\n",
            "1.24461509249221e+18 -1\n",
            "1.24517735687825e+18 0\n",
            "1.24613447359215e+18 1\n",
            "1.24582165559264e+18 -1\n",
            "1.24410860526938e+18 0\n",
            "1.24609098912889e+18 1\n",
            "1.24577450379746e+18 0\n",
            "1.24444970841357e+18 1\n",
            "1.2450441807721e+18 0\n",
            "1.24653560593851e+18 0\n",
            "1.24527717172108e+18 -1\n",
            "1.24602259617861e+18 0\n",
            "1.24631382076473e+18 0\n",
            "1.24662730464367e+18 0\n",
            "1.24535148902918e+18 0\n",
            "1.24506069021937e+18 0\n",
            "1.24548663156347e+18 0\n",
            "1.24400634848168e+18 0\n",
            "1.24653203371273e+18 0\n",
            "1.24467153964935e+18 1\n",
            "1.24403295919324e+18 0\n",
            "1.24538274455484e+18 0\n",
            "1.24488279764863e+18 0\n",
            "1.24648340103467e+18 0\n",
            "1.246497645365e+18 0\n",
            "1.24426581328629e+18 1\n",
            "1.24397791608357e+18 0\n",
            "1.24669967234279e+18 0\n",
            "1.24611181593281e+18 -1\n",
            "1.24517052449545e+18 0\n",
            "1.24485554484803e+18 -1\n",
            "1.24636276278528e+18 0\n",
            "1.24614041693793e+18 0\n",
            "1.24532045505932e+18 -1\n",
            "1.24620764057066e+18 0\n",
            "1.24543043064961e+18 1\n",
            "1.24604058480607e+18 0\n",
            "1.245123969965e+18 0\n",
            "1.24613394864587e+18 0\n",
            "1.24422546531069e+18 0\n",
            "1.24505597543601e+18 0\n",
            "1.24671676424489e+18 0\n",
            "1.24541542278413e+18 0\n",
            "1.24491782056521e+18 -1\n",
            "1.24458086812909e+18 0\n",
            "1.2454497499705e+18 0\n",
            "1.24587909474463e+18 0\n",
            "1.24612996858686e+18 -1\n",
            "1.24477142834954e+18 0\n",
            "1.24518561732091e+18 0\n",
            "1.24521942927059e+18 -1\n",
            "1.2452526668901e+18 1\n",
            "1.24476440966009e+18 0\n",
            "1.2450005381414e+18 0\n",
            "1.24652502666231e+18 0\n",
            "1.24609774140468e+18 0\n",
            "1.24581695616861e+18 -1\n",
            "1.24508600707209e+18 0\n",
            "1.24543009375892e+18 0\n",
            "1.24549095107172e+18 0\n",
            "1.24556517037148e+18 1\n",
            "1.24414132594921e+18 0\n",
            "1.24581929614565e+18 0\n",
            "1.24539019784143e+18 0\n",
            "1.246138657226e+18 0\n",
            "1.24580247642453e+18 1\n",
            "1.24644391803779e+18 0\n",
            "1.2439459500302e+18 -1\n",
            "1.24437742815748e+18 1\n",
            "1.24633726275071e+18 -1\n",
            "1.24581923460689e+18 -1\n",
            "1.24500035352076e+18 1\n",
            "1.24478579612258e+18 0\n",
            "1.24413106410641e+18 0\n",
            "1.24653004187114e+18 0\n",
            "1.24578149621386e+18 0\n",
            "1.24478611262064e+18 -1\n",
            "1.24461578193921e+18 0\n",
            "1.24491250915856e+18 1\n",
            "1.24485345727144e+18 0\n",
            "1.24560497412755e+18 -1\n",
            "1.24583883079344e+18 1\n",
            "1.24496981722176e+18 -1\n",
            "1.24450790437333e+18 1\n",
            "1.24544014595389e+18 0\n",
            "1.24464090454521e+18 -1\n",
            "1.2450007292716e+18 -1\n",
            "1.24588898026602e+18 0\n",
            "1.24646087710623e+18 1\n",
            "1.24603373312118e+18 -1\n",
            "1.2445220150648e+18 1\n",
            "1.24605118549408e+18 0\n",
            "1.24615281938989e+18 0\n",
            "1.24530654776646e+18 0\n",
            "1.24449106320686e+18 1\n",
            "1.2465148395617e+18 0\n",
            "1.24633725779723e+18 0\n",
            "1.24538944203203e+18 0\n",
            "1.24460382695242e+18 0\n",
            "1.24511569821437e+18 -1\n",
            "1.24609910540911e+18 0\n",
            "1.24478273098394e+18 0\n",
            "1.24468950716696e+18 0\n",
            "1.24508467483526e+18 0\n",
            "1.24597576296186e+18 -1\n",
            "1.24588224912971e+18 0\n",
            "1.24467834613233e+18 0\n",
            "1.24592732592278e+18 0\n",
            "1.24506417270397e+18 0\n",
            "1.24466260789165e+18 0\n",
            "1.24545956701156e+18 1\n",
            "1.24404955497199e+18 0\n",
            "1.24660095216724e+18 1\n",
            "1.24615346962874e+18 -1\n",
            "1.24417129303504e+18 0\n",
            "1.24406008582495e+18 -1\n",
            "1.24607298588425e+18 -1\n",
            "1.24405645354097e+18 0\n",
            "1.24588020346281e+18 1\n",
            "1.2459775935701e+18 0\n",
            "1.2443784011018e+18 0\n",
            "1.24530025764425e+18 0\n",
            "1.24511944049826e+18 0\n",
            "1.24584988653839e+18 0\n",
            "1.24615007243965e+18 1\n",
            "1.24534842292171e+18 0\n",
            "1.24525266100539e+18 1\n",
            "1.24428095464404e+18 0\n",
            "1.2450830854122e+18 0\n",
            "1.24588891150062e+18 0\n",
            "1.24662875120878e+18 0\n",
            "1.24512752497326e+18 0\n",
            "1.24540465937802e+18 1\n",
            "1.24613480071454e+18 -1\n",
            "1.24556460644311e+18 1\n",
            "1.24588444239414e+18 0\n",
            "1.24525961777858e+18 0\n",
            "1.24549782161825e+18 0\n",
            "1.2439225073899e+18 1\n",
            "1.24588058435154e+18 0\n",
            "1.24503390856515e+18 1\n",
            "1.24460286215347e+18 -1\n",
            "1.24396683989559e+18 1\n",
            "1.24515207392838e+18 0\n",
            "1.24461388815239e+18 1\n",
            "1.24626552095923e+18 1\n",
            "1.24423691404094e+18 -1\n",
            "1.24646106277556e+18 0\n",
            "1.2446150372407e+18 0\n",
            "1.24491305832291e+18 0\n",
            "1.2447857684989e+18 0\n",
            "1.24654222454603e+18 -1\n",
            "1.24392229822842e+18 0\n",
            "1.24476155266384e+18 -1\n",
            "1.24464128082027e+18 0\n",
            "1.24553954619394e+18 -1\n",
            "1.24392215322293e+18 0\n",
            "1.24648010505814e+18 0\n",
            "1.24540187173869e+18 0\n",
            "1.24487776068794e+18 0\n",
            "1.24540428051481e+18 -1\n",
            "1.2464418162008e+18 0\n",
            "1.2461067712882e+18 0\n",
            "1.2444367273406e+18 -1\n",
            "1.24396189145148e+18 -1\n",
            "1.24511767108078e+18 -1\n",
            "1.24431196847285e+18 0\n",
            "1.24661303159492e+18 1\n",
            "1.24633253577435e+18 -1\n",
            "1.2439242174077e+18 -1\n",
            "1.24538064880373e+18 0\n",
            "1.24662713265631e+18 -1\n",
            "1.24543139872863e+18 -1\n",
            "1.24400828884657e+18 -1\n",
            "1.24528913721902e+18 0\n",
            "1.24578823664091e+18 0\n",
            "1.24575840711556e+18 0\n",
            "1.24588932831796e+18 0\n",
            "1.24487046300572e+18 0\n",
            "1.2461270037087e+18 -1\n",
            "1.24463725399086e+18 0\n",
            "1.24610443304339e+18 0\n",
            "1.24612078960846e+18 1\n",
            "1.24662781418454e+18 -1\n",
            "1.24603975972787e+18 -1\n",
            "1.24447271496378e+18 0\n",
            "1.24584640877267e+18 -1\n",
            "1.24633225665181e+18 0\n",
            "1.24536719052371e+18 -1\n",
            "1.24613764805135e+18 0\n",
            "1.24656954985773e+18 0\n",
            "1.24477789045502e+18 0\n",
            "1.24640447126287e+18 0\n",
            "1.24615116532428e+18 0\n",
            "1.24473987736481e+18 -1\n",
            "1.24518227378538e+18 0\n",
            "1.24666608202417e+18 -1\n",
            "1.24433304518601e+18 -1\n",
            "1.2466997219573e+18 -1\n",
            "1.2451175619366e+18 0\n",
            "1.24438064637148e+18 1\n",
            "1.24584949188375e+18 1\n",
            "1.24453242688338e+18 0\n",
            "1.2441639423621e+18 1\n",
            "1.2446906055838e+18 0\n",
            "1.24405393205545e+18 0\n",
            "1.24480821702631e+18 0\n",
            "1.24547991469604e+18 0\n",
            "1.24434774924122e+18 -1\n",
            "1.24503491602429e+18 0\n",
            "1.24635901042649e+18 1\n",
            "1.24628639167754e+18 1\n",
            "1.24546672977123e+18 -1\n",
            "1.24405179160562e+18 1\n",
            "1.24567235331874e+18 -1\n",
            "1.24588836461372e+18 0\n",
            "1.24424476009879e+18 1\n",
            "1.24505329262911e+18 0\n",
            "1.24573636705887e+18 -1\n",
            "1.24541060076893e+18 -1\n",
            "1.24601318298607e+18 0\n",
            "1.2444244864153e+18 0\n",
            "1.24520203026167e+18 0\n",
            "1.24505595138587e+18 1\n",
            "1.24537406036165e+18 0\n",
            "1.24587969468116e+18 0\n",
            "1.24610540618056e+18 0\n",
            "1.24421802336125e+18 1\n",
            "1.24517991295842e+18 0\n",
            "1.24577526332312e+18 1\n",
            "1.24461526619938e+18 0\n",
            "1.24510620706229e+18 -1\n",
            "1.24643168900764e+18 1\n",
            "1.24577824588003e+18 0\n",
            "1.24476051286646e+18 -1\n",
            "1.24660424743038e+18 -1\n",
            "1.24477033034806e+18 0\n",
            "1.2451362611171e+18 1\n",
            "1.24615848447266e+18 0\n",
            "1.2448524182626e+18 0\n",
            "1.24474130506395e+18 -1\n",
            "1.24506508030115e+18 -1\n",
            "1.24588650239719e+18 1\n",
            "1.24459796765226e+18 0\n",
            "1.24649401026658e+18 0\n",
            "1.2466996898331e+18 0\n",
            "1.24486527339764e+18 0\n",
            "1.24551741858954e+18 0\n",
            "1.24505439988331e+18 -1\n",
            "1.24603352792743e+18 0\n",
            "1.24462793173894e+18 0\n",
            "1.24406142730605e+18 0\n",
            "1.24615224595308e+18 -1\n",
            "1.24553165248437e+18 0\n",
            "1.24653268540271e+18 1\n",
            "1.24618081559325e+18 0\n",
            "1.24444973261906e+18 -1\n",
            "1.24582155121319e+18 0\n",
            "1.2463444925103e+18 0\n",
            "1.24511688450613e+18 1\n",
            "1.24558122539948e+18 0\n",
            "1.24421240964196e+18 0\n",
            "1.24503991520274e+18 0\n",
            "1.24643763155631e+18 -1\n",
            "1.24524469300229e+18 0\n",
            "1.24490801205525e+18 -1\n",
            "1.24461439813781e+18 1\n",
            "1.24478661178049e+18 1\n",
            "1.24619539568579e+18 0\n",
            "1.24429606730018e+18 0\n",
            "1.24449627862255e+18 0\n",
            "1.24422146597476e+18 0\n",
            "1.2440357005525e+18 -1\n",
            "1.24588595538032e+18 1\n",
            "1.24588425596999e+18 0\n",
            "1.24458774021533e+18 0\n",
            "1.24658486181045e+18 0\n",
            "1.24472738360682e+18 0\n",
            "1.2446717314087e+18 0\n",
            "1.24475881769662e+18 -1\n",
            "1.24564031727498e+18 0\n",
            "1.24506488547972e+18 0\n",
            "1.24443176882192e+18 -1\n",
            "1.24670434257855e+18 -1\n",
            "1.24534369848285e+18 -1\n",
            "1.24648366913435e+18 0\n",
            "1.2455175923637e+18 0\n",
            "1.24499144793547e+18 0\n",
            "1.24581889231805e+18 0\n",
            "1.24610440677027e+18 0\n",
            "1.24647759940624e+18 0\n",
            "1.2458882355298e+18 -1\n",
            "1.24416395201319e+18 0\n",
            "1.24633254483398e+18 1\n",
            "1.24437348526421e+18 1\n",
            "1.24670539091567e+18 -1\n",
            "1.24560758591639e+18 -1\n",
            "1.24434817149856e+18 0\n",
            "1.24588413040927e+18 -1\n",
            "1.24586514790772e+18 -1\n",
            "1.24442166366979e+18 0\n",
            "1.24525879662195e+18 -1\n",
            "1.24471061041746e+18 1\n",
            "1.24500042277295e+18 0\n",
            "1.24420368590905e+18 1\n",
            "1.24619170640132e+18 0\n",
            "1.24556522081221e+18 0\n",
            "1.24478679161555e+18 0\n",
            "1.2450828530268e+18 0\n",
            "1.24557659138978e+18 0\n",
            "1.24497972339617e+18 1\n",
            "1.24563945451925e+18 0\n",
            "1.24669727393497e+18 0\n",
            "1.24648139173237e+18 0\n",
            "1.24614243233029e+18 0\n",
            "1.24619066857936e+18 -1\n",
            "1.24549897803843e+18 1\n",
            "1.24474289669308e+18 1\n",
            "1.2457807598662e+18 -1\n",
            "1.24545745330476e+18 0\n",
            "1.24620992797211e+18 -1\n",
            "1.24615248573301e+18 0\n",
            "1.24617867492114e+18 -1\n",
            "1.24539963662747e+18 -1\n",
            "1.24614995437827e+18 -1\n",
            "1.24557911033776e+18 -1\n",
            "1.24619093790423e+18 0\n",
            "1.24464990227526e+18 0\n",
            "1.24646344618873e+18 1\n",
            "1.24593879699193e+18 0\n",
            "1.2466150445002e+18 1\n",
            "1.2448996484535e+18 0\n",
            "1.24499663983367e+18 -1\n",
            "1.2446156077793e+18 0\n",
            "1.2454459606349e+18 0\n",
            "1.24415202983403e+18 0\n",
            "1.24617138979252e+18 -1\n",
            "1.24584875581294e+18 1\n",
            "1.24648771008222e+18 -1\n",
            "1.24582171459399e+18 0\n",
            "1.24530490384666e+18 -1\n",
            "1.24526647607392e+18 1\n",
            "1.24569257717893e+18 0\n",
            "1.24506570210648e+18 -1\n",
            "1.24438400652069e+18 -1\n",
            "1.2457745205538e+18 0\n",
            "1.24579536862269e+18 1\n",
            "1.24516950860992e+18 -1\n",
            "1.24635522863229e+18 0\n",
            "1.24515147902929e+18 0\n",
            "1.24400559161109e+18 1\n",
            "1.24610763191745e+18 1\n",
            "1.24475622705538e+18 0\n",
            "1.24647248028759e+18 0\n",
            "1.24573718605145e+18 0\n",
            "1.2447504299064e+18 1\n",
            "1.24613726919241e+18 0\n",
            "1.24607248264742e+18 -1\n",
            "1.24576399786295e+18 0\n",
            "1.24580591630338e+18 -1\n",
            "1.24630772688961e+18 0\n",
            "1.24588438890837e+18 0\n",
            "1.24613577726595e+18 1\n",
            "1.24423271131893e+18 -1\n",
            "1.24611827316847e+18 0\n",
            "1.24495218032863e+18 -1\n",
            "1.24643422167524e+18 0\n",
            "1.24425046873962e+18 0\n",
            "1.24503812665086e+18 0\n",
            "1.24407612819475e+18 0\n",
            "1.2445651514178e+18 0\n",
            "1.24477383925659e+18 -1\n",
            "1.24585854395094e+18 0\n",
            "1.245411858452e+18 0\n",
            "1.24573598152683e+18 0\n",
            "1.24445989259069e+18 0\n",
            "1.24647642366734e+18 0\n",
            "1.24581071129875e+18 -1\n",
            "1.24588828803824e+18 1\n",
            "1.24527543091302e+18 0\n",
            "1.24565628147969e+18 -1\n",
            "1.2445364032472e+18 0\n",
            "1.24581930188331e+18 0\n",
            "1.24570528890635e+18 1\n",
            "1.24611656712292e+18 0\n",
            "1.24669312446388e+18 -1\n",
            "1.24393963876035e+18 1\n",
            "1.24581689512059e+18 -1\n",
            "1.24633436870607e+18 0\n",
            "1.24431643745338e+18 0\n",
            "1.24475001046329e+18 0\n",
            "1.24662292264445e+18 0\n",
            "1.24486336334944e+18 -1\n",
            "1.24620494773522e+18 -1\n",
            "1.24405389099309e+18 0\n",
            "1.24446164044528e+18 1\n",
            "1.24424203675421e+18 -1\n",
            "1.24461529605014e+18 0\n",
            "1.24447279559938e+18 0\n",
            "1.24415860114242e+18 1\n",
            "1.24636922259204e+18 -1\n",
            "1.24529042847319e+18 -1\n",
            "1.24404587917212e+18 -1\n",
            "1.24408184665851e+18 -1\n",
            "1.24633725102343e+18 -1\n",
            "1.24624503735005e+18 -1\n",
            "1.24493318049633e+18 0\n",
            "1.24643821078538e+18 0\n",
            "1.24534836327454e+18 -1\n",
            "1.24662857194004e+18 0\n",
            "1.24426602971238e+18 -1\n",
            "1.24469778589257e+18 1\n",
            "1.24542250079797e+18 0\n",
            "1.24391733507913e+18 0\n",
            "1.24397715476701e+18 0\n",
            "1.24396599511223e+18 -1\n",
            "1.2445791940817e+18 -1\n",
            "1.24396121508647e+18 -1\n",
            "1.24564353892829e+18 0\n",
            "1.24640353332848e+18 -1\n",
            "1.24582177760902e+18 0\n",
            "1.24503960466069e+18 -1\n",
            "1.24536739554549e+18 1\n",
            "1.24395928594149e+18 1\n",
            "1.24504417661143e+18 -1\n",
            "1.2457549858471e+18 0\n",
            "1.24597573580375e+18 0\n",
            "1.24644849135168e+18 0\n",
            "1.24470722802579e+18 0\n",
            "1.24505974649679e+18 0\n",
            "1.24655919559761e+18 0\n",
            "1.24569010618864e+18 -1\n",
            "1.24521856540331e+18 0\n",
            "1.24588180845516e+18 0\n",
            "1.24646122892449e+18 1\n",
            "1.24624519225816e+18 0\n",
            "1.2451775043123e+18 -1\n"
          ],
          "name": "stdout"
        }
      ]
    }
  ]
}